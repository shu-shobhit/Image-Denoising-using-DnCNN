{
 "cells": [
  {
   "cell_type": "code",
   "execution_count": 2,
   "metadata": {
    "execution": {
     "iopub.execute_input": "2025-03-31T05:36:46.398501Z",
     "iopub.status.busy": "2025-03-31T05:36:46.398192Z",
     "iopub.status.idle": "2025-03-31T05:36:57.634723Z",
     "shell.execute_reply": "2025-03-31T05:36:57.633873Z",
     "shell.execute_reply.started": "2025-03-31T05:36:46.398478Z"
    },
    "id": "cPBehvL0xbs1",
    "trusted": true
   },
   "outputs": [],
   "source": [
    "import numpy as np\n",
    "import matplotlib.pyplot as plt\n",
    "import torch\n",
    "import torch.nn as nn\n",
    "import torch.optim as optim\n",
    "import torchvision.transforms as T\n",
    "from torchvision.transforms import functional as F\n",
    "import random\n",
    "from PIL import Image\n",
    "from torch.utils.data import Dataset, DataLoader\n",
    "from torch.utils.data import DataLoader, random_split, Dataset\n",
    "from torchmetrics.image import PeakSignalNoiseRatio, StructuralSimilarityIndexMeasure\n",
    "from tqdm import tqdm\n",
    "import warnings\n",
    "import wandb\n",
    "import torch.optim.lr_scheduler as lr_scheduler\n",
    "import os\n",
    "import torchvision.transforms.v2 as transforms\n",
    "from PIL import Image\n",
    "\n",
    "warnings.filterwarnings(\"ignore\")\n",
    "torch.manual_seed(42)\n",
    "np.random.seed(42)"
   ]
  },
  {
   "cell_type": "code",
   "execution_count": 3,
   "metadata": {
    "execution": {
     "iopub.execute_input": "2025-03-31T05:36:57.636326Z",
     "iopub.status.busy": "2025-03-31T05:36:57.635988Z",
     "iopub.status.idle": "2025-03-31T05:37:05.447965Z",
     "shell.execute_reply": "2025-03-31T05:37:05.447293Z",
     "shell.execute_reply.started": "2025-03-31T05:36:57.636292Z"
    },
    "trusted": true
   },
   "outputs": [
    {
     "name": "stderr",
     "output_type": "stream",
     "text": [
      "\u001b[34m\u001b[1mwandb\u001b[0m: Using wandb-core as the SDK backend.  Please refer to https://wandb.me/wandb-core for more information.\n",
      "\u001b[34m\u001b[1mwandb\u001b[0m: Currently logged in as: \u001b[33mshobhitshukla6535\u001b[0m (\u001b[33mshobhitshukla6535-iit-kharagpur\u001b[0m). Use \u001b[1m`wandb login --relogin`\u001b[0m to force relogin\n",
      "\u001b[34m\u001b[1mwandb\u001b[0m: \u001b[33mWARNING\u001b[0m If you're specifying your api key in code, ensure this code is not shared publicly.\n",
      "\u001b[34m\u001b[1mwandb\u001b[0m: \u001b[33mWARNING\u001b[0m Consider setting the WANDB_API_KEY environment variable, or running `wandb login` from the command line.\n",
      "\u001b[34m\u001b[1mwandb\u001b[0m: Appending key for api.wandb.ai to your netrc file: /root/.netrc\n"
     ]
    },
    {
     "data": {
      "text/plain": [
       "True"
      ]
     },
     "execution_count": 3,
     "metadata": {},
     "output_type": "execute_result"
    }
   ],
   "source": [
    "from kaggle_secrets import UserSecretsClient\n",
    "user_secrets = UserSecretsClient()\n",
    "secret_value_0 = user_secrets.get_secret(\"WANDB_API_KEY\")\n",
    "\n",
    "wandb.login(key = secret_value_0)"
   ]
  },
  {
   "cell_type": "code",
   "execution_count": null,
   "metadata": {
    "execution": {
     "iopub.execute_input": "2025-03-31T05:37:05.449525Z",
     "iopub.status.busy": "2025-03-31T05:37:05.449153Z",
     "iopub.status.idle": "2025-03-31T05:37:05.461527Z",
     "shell.execute_reply": "2025-03-31T05:37:05.460563Z",
     "shell.execute_reply.started": "2025-03-31T05:37:05.449506Z"
    },
    "id": "W0uUWcupxbs4",
    "trusted": true
   },
   "outputs": [],
   "source": [
    "class ImageDenoisingDataset(Dataset):\n",
    "    def __init__(self, noisy_dir, original_dir, patch_size=50, stride=25):\n",
    "        self.noisy_dir = noisy_dir\n",
    "        self.original_dir = original_dir\n",
    "        self.patch_size = patch_size\n",
    "        self.stride = stride\n",
    "        self.transform = transforms.Compose(\n",
    "            [transforms.ToImage(), transforms.ToDtype(torch.float32, scale=True)]\n",
    "        )\n",
    "\n",
    "        self.noisy_images = sorted(os.listdir(noisy_dir))\n",
    "        self.original_images = sorted(os.listdir(original_dir))\n",
    "\n",
    "        assert len(self.noisy_images) == len(self.original_images), (\n",
    "            \"Mismatch in dataset sizes\"\n",
    "        )\n",
    "\n",
    "        self.patches = self._generate_patches()\n",
    "\n",
    "    def _generate_patches(self):\n",
    "        \"\"\"Generate all patches using a sliding window approach.\"\"\"\n",
    "        patches = []\n",
    "\n",
    "        for img_idx in range(len(self.noisy_images)):\n",
    "            noisy_path = os.path.join(self.noisy_dir, self.noisy_images[img_idx])\n",
    "            original_path = os.path.join(\n",
    "                self.original_dir, self.original_images[img_idx]\n",
    "            )\n",
    "\n",
    "            noisy_img = Image.open(noisy_path).convert(\"RGB\")\n",
    "            original_img = Image.open(original_path).convert(\"RGB\")\n",
    "\n",
    "            assert noisy_img.size == original_img.size, (\n",
    "                f\"Image size mismatch for {img_idx}\"\n",
    "            )\n",
    "\n",
    "            w, h = noisy_img.size\n",
    "            ps = self.patch_size\n",
    "            stride = self.stride\n",
    "\n",
    "            # Extract patches using a sliding window approach\n",
    "            for y in range(0, h - ps + 1, stride):\n",
    "                for x in range(0, w - ps + 1, stride):\n",
    "                    patches.append((img_idx, x, y))\n",
    "\n",
    "        return patches\n",
    "\n",
    "    @staticmethod\n",
    "    def apply_same_transforms(noisy_img, original_img):\n",
    "        seed = random.randint(0, 2**32)\n",
    "\n",
    "        def get_transforms(seed):\n",
    "            random.seed(seed)\n",
    "            torch.manual_seed(seed)\n",
    "\n",
    "            angle = random.uniform(-180, 180)\n",
    "            flip = random.random() > 0.5\n",
    "\n",
    "            def transform(img):\n",
    "                img = F.rotate(img, angle)\n",
    "\n",
    "                if flip:\n",
    "                    img = F.hflip(img)\n",
    "\n",
    "                return img\n",
    "\n",
    "            return transform\n",
    "\n",
    "        transform = get_transforms(seed)\n",
    "\n",
    "        transformed_noisy = transform(noisy_img)\n",
    "        transformed_original = transform(original_img)\n",
    "\n",
    "        random.seed(42)\n",
    "        torch.manual_seed(42)\n",
    "        \n",
    "        return transformed_noisy, transformed_original\n",
    "\n",
    "    \n",
    "    def __len__(self):\n",
    "        return len(self.patches)\n",
    "\n",
    "\n",
    "    def __getitem__(self, idx):\n",
    "        \"\"\"Return a specific patch from the dataset.\"\"\"\n",
    "        img_idx, x, y = self.patches[idx]\n",
    "\n",
    "        noisy_path = os.path.join(self.noisy_dir, self.noisy_images[img_idx])\n",
    "        original_path = os.path.join(self.original_dir, self.original_images[img_idx])\n",
    "\n",
    "        noisy_img = Image.open(noisy_path).convert(\"RGB\")\n",
    "        original_img = Image.open(original_path).convert(\"RGB\")\n",
    "\n",
    "        noisy_patch = noisy_img.crop((x, y, x + self.patch_size, y + self.patch_size))\n",
    "        original_patch = original_img.crop(\n",
    "            (x, y, x + self.patch_size, y + self.patch_size)\n",
    "        )\n",
    "\n",
    "        transformed_noisy, transformed_original = self.apply_same_transforms(\n",
    "            noisy_patch, original_patch\n",
    "        )\n",
    "\n",
    "        transformed_noisy_tensor = self.transform(transformed_noisy)\n",
    "        transformed_original_tensor = self.transform(transformed_original)\n",
    "\n",
    "        return {\n",
    "            \"noisy_patch\": transformed_noisy_tensor,\n",
    "            \"original_patch\": transformed_original_tensor,\n",
    "        }"
   ]
  },
  {
   "cell_type": "code",
   "execution_count": 5,
   "metadata": {
    "execution": {
     "iopub.execute_input": "2025-03-31T05:37:11.320756Z",
     "iopub.status.busy": "2025-03-31T05:37:11.320446Z",
     "iopub.status.idle": "2025-03-31T05:37:11.326659Z",
     "shell.execute_reply": "2025-03-31T05:37:11.325613Z",
     "shell.execute_reply.started": "2025-03-31T05:37:11.320731Z"
    },
    "id": "C2KzXVoNxbs5",
    "trusted": true
   },
   "outputs": [],
   "source": [
    "class DnCNN(nn.Module):\n",
    "    def __init__(self, depth=20, channels=128):\n",
    "        super(DnCNN, self).__init__()\n",
    "\n",
    "        layers = [\n",
    "            nn.Conv2d(\n",
    "                in_channels=3,\n",
    "                out_channels=channels,\n",
    "                kernel_size=3,\n",
    "                padding=1,\n",
    "                bias=False,\n",
    "            ),\n",
    "            nn.ReLU(inplace=True),\n",
    "        ]\n",
    "\n",
    "        for _ in range(depth - 2):\n",
    "            layers.append(\n",
    "                nn.Conv2d(\n",
    "                    in_channels=channels,\n",
    "                    out_channels=channels,\n",
    "                    kernel_size=3,\n",
    "                    padding=1,\n",
    "                    bias=False,\n",
    "                )\n",
    "            )\n",
    "            layers.append(nn.BatchNorm2d(channels))\n",
    "            layers.append(nn.ReLU(inplace=True))\n",
    "\n",
    "        layers.append(\n",
    "            nn.Conv2d(\n",
    "                in_channels=channels,\n",
    "                out_channels=3,\n",
    "                kernel_size=3,\n",
    "                padding=1,\n",
    "                bias=False,\n",
    "            )\n",
    "        )\n",
    "\n",
    "        self.dncnn = nn.Sequential(*layers)\n",
    "\n",
    "    def forward(self, x):\n",
    "        noise = self.dncnn(x)\n",
    "        return noise"
   ]
  },
  {
   "cell_type": "code",
   "execution_count": null,
   "metadata": {
    "execution": {
     "iopub.execute_input": "2025-03-30T19:27:13.489438Z",
     "iopub.status.busy": "2025-03-30T19:27:13.489133Z",
     "iopub.status.idle": "2025-03-30T19:27:13.506873Z",
     "shell.execute_reply": "2025-03-30T19:27:13.505914Z",
     "shell.execute_reply.started": "2025-03-30T19:27:13.489414Z"
    },
    "id": "9H2pae9Txbs5",
    "trusted": true
   },
   "outputs": [],
   "source": [
    "class Trainer:\n",
    "    def __init__(self, config):\n",
    "        self.config = config\n",
    "        self.device = torch.device(\"cuda\" if torch.cuda.is_available() else \"cpu\")\n",
    "        self._prepare_dataloader()\n",
    "        self._init_model()\n",
    "        os.makedirs(self.config[\"checkpoint_dir\"], exist_ok=True)\n",
    "\n",
    "        self.optimizer = optim.AdamW(\n",
    "            self.model.parameters(), lr=1e-4\n",
    "        )\n",
    "        \n",
    "        self.scheduler = lr_scheduler.ExponentialLR(self.optimizer, gamma=0.99)\n",
    "        self.criterion = nn.MSELoss()\n",
    "\n",
    "        self.train_psnr = PeakSignalNoiseRatio().to(self.device)\n",
    "        self.val_psnr = PeakSignalNoiseRatio().to(self.device)\n",
    "        self.train_ssim = StructuralSimilarityIndexMeasure().to(self.device)\n",
    "        self.val_ssim = StructuralSimilarityIndexMeasure().to(self.device)\n",
    "\n",
    "        if self.config[\"wandb_enabled\"] and self.config[\"wandb_mode\"] != \"disabled\":\n",
    "            exclude_keys = [\n",
    "                \"project_name\",\n",
    "                \"wandb_mode\",\n",
    "                \"wandb_enabled\",\n",
    "                \"noisy_dir\",\n",
    "                \"original_dir\",\n",
    "                \"val_size\",\n",
    "            ]\n",
    "            \n",
    "            parsed_config = wandb.helper.parse_config(\n",
    "                self.config, \n",
    "                exclude=exclude_keys\n",
    "            )\n",
    "\n",
    "            self.wandb_run = wandb.init(\n",
    "                project=self.config[\"project_name\"],\n",
    "                config=parsed_config,\n",
    "                mode=self.config[\"wandb_mode\"],\n",
    "            )\n",
    "            wandb.watch(models=self.model, criterion=self.criterion, log=\"gradients\")\n",
    "        else:\n",
    "            self.wandb_run = None\n",
    "\n",
    "    def _prepare_dataloader(self):\n",
    "        print(\"Preparing Data...\")\n",
    "        dataset = ImageDenoisingDataset(\n",
    "            noisy_dir=self.config[\"noisy_dir\"],\n",
    "            original_dir=self.config[\"original_dir\"],\n",
    "            patch_size=self.config[\"patch_size\"],\n",
    "            stride=self.config[\"stride\"],\n",
    "        )\n",
    "\n",
    "        assert torch.initial_seed() == 42\n",
    "        \n",
    "        dataset_size = len(dataset)\n",
    "        val_size = int(self.config[\"val_size\"] * dataset_size)\n",
    "        train_size = dataset_size - val_size\n",
    "\n",
    "        train_data, val_data = random_split(dataset, [train_size, val_size])\n",
    "\n",
    "        self.train_loader = DataLoader(\n",
    "            train_data, batch_size=self.config[\"batch_size\"], shuffle=True\n",
    "        )\n",
    "        self.val_loader = DataLoader(val_data, batch_size=self.config[\"batch_size\"])\n",
    "        print(\"Dataloaders prepared !!\")\n",
    "\n",
    "    def _init_model(self):\n",
    "        self.model = DnCNN(depth=self.config[\"depth\"], channels=self.config[\"channels\"]).to(self.device)\n",
    "        print(\"Model Initialized !!\")\n",
    "\n",
    "    def train(self):\n",
    "        \n",
    "        best_val_psnr = 0\n",
    "        step = 0\n",
    "        agg_loss = 0\n",
    "\n",
    "        for epoch in range(self.config[\"epochs\"]):\n",
    "            \n",
    "            self.train_psnr.reset()\n",
    "            self.train_ssim.reset()\n",
    "\n",
    "            self.model.train()\n",
    "            batch_losses = []\n",
    "\n",
    "            batch_iterator = tqdm(\n",
    "                self.train_loader,\n",
    "                desc=f\"Epoch {epoch + 1}\",\n",
    "                leave=True,\n",
    "                dynamic_ncols=True,\n",
    "            )\n",
    "\n",
    "            for batch in batch_iterator:\n",
    "                y = batch[\"noisy_patch\"].to(self.device)\n",
    "                x = batch[\"original_patch\"].to(self.device)\n",
    "                target_residual = y - x\n",
    "\n",
    "                self.optimizer.zero_grad()\n",
    "\n",
    "                output_residual = self.model(y)\n",
    "                \n",
    "                denoised_image = y - output_residual\n",
    "\n",
    "                loss = self.criterion(output_residual, target_residual)\n",
    "                loss.backward()\n",
    "\n",
    "                nn.utils.clip_grad_norm_(self.model.parameters(), max_norm=1.0)\n",
    "\n",
    "                self.optimizer.step()\n",
    "                agg_loss += loss.item()\n",
    "\n",
    "                self.train_psnr.update(denoised_image, x)\n",
    "                self.train_ssim.update(denoised_image, x)\n",
    "\n",
    "                if self.wandb_run:\n",
    "                    wandb.log(\n",
    "                        {\"avg loss\": agg_loss / (step + 1), \"training_step\": step},\n",
    "                        step=step,\n",
    "                    )\n",
    "                step += 1\n",
    "\n",
    "                batch_losses.append(loss.item())\n",
    "\n",
    "                batch_iterator.set_postfix({\"Avg Loss\": agg_loss / (step + 1)})\n",
    "                \n",
    "            train_loss = sum(batch_losses)/len(self.train_loader)\n",
    "            self.scheduler.step()\n",
    "            print(f\"Latest Learning rate: {self.scheduler.get_last_lr()}\")\n",
    "\n",
    "\n",
    "            if (epoch+1) % self.config[\"log_interval\"] == 0:\n",
    "                # Get metric values\n",
    "                train_psnr = self.train_psnr.compute()\n",
    "                train_ssim = self.train_ssim.compute()\n",
    "\n",
    "                val_loss, val_psnr, val_ssim = self.validate()\n",
    "\n",
    "                if self.wandb_run:\n",
    "                    wandb.log(\n",
    "                        {\n",
    "                            \"epoch\": epoch + 1,\n",
    "                            # \"training_step\": step,\n",
    "                            \"train_loss\": train_loss,\n",
    "                            \"train_psnr\": train_psnr.item(),\n",
    "                            \"train_ssim\": train_ssim.item(),\n",
    "                            \"val_loss\": val_loss,\n",
    "                            \"val_psnr\": val_psnr,\n",
    "                            \"val_ssim\": val_ssim\n",
    "                        }\n",
    "                    )\n",
    "                print(\n",
    "                    f\"Epoch {epoch + 1}/{self.config['epochs']}, Step: {step}, \"\n",
    "                    f\"Train Loss: {train_loss:.6f}, Val Loss: {val_loss:.6f}, \"\n",
    "                    f\"Train PSNR: {train_psnr.item():.6f}, Train SSIM: {train_ssim.item():.6f}, \"\n",
    "                    f\"Val PSNR: {val_psnr:.6f}, Val SSIM: {val_ssim:.6f}\"\n",
    "                )\n",
    "\n",
    "                if val_psnr > best_val_psnr:\n",
    "                    best_val_psnr = val_psnr\n",
    "                    print(\n",
    "                        f\"New best model found at epoch {epoch + 1} with val PSNR: {best_val_psnr:.6f}\"\n",
    "                    )\n",
    "                    model_path = f\"{self.config['checkpoint_dir']}/best_model.pth\"\n",
    "                    torch.save(self.model.state_dict(), model_path)\n",
    "                    if self.wandb_run:\n",
    "                        wandb.log({\"best_val_psnr\": best_val_psnr}, step=step)\n",
    "                        wandb.save(model_path)\n",
    "                        self._log_model_as_artifact(model_path)\n",
    "\n",
    "        if self.wandb_run:\n",
    "            wandb.finish()\n",
    "        print(\"Training completed.\")\n",
    "\n",
    "    def validate(self):\n",
    "        self.model.eval()\n",
    "        self.val_psnr.reset()\n",
    "        self.val_ssim.reset()\n",
    "        total_loss = 0\n",
    "\n",
    "        with torch.no_grad():\n",
    "            for batch in self.val_loader:\n",
    "                y = batch[\"noisy_patch\"].to(self.device)\n",
    "                x = batch[\"original_patch\"].to(self.device)\n",
    "                target_residual = y - x\n",
    "\n",
    "                outputs_residual = self.model(y)\n",
    "                # Reconstruct the denoised image\n",
    "                denoised_image = y - outputs_residual\n",
    "\n",
    "                loss = self.criterion(outputs_residual, target_residual)\n",
    "                total_loss += loss.item()\n",
    "\n",
    "                self.val_psnr.update(denoised_image, x)\n",
    "                self.val_ssim.update(denoised_image, x)\n",
    "                \n",
    "        val_loss = total_loss / len(self.val_loader)\n",
    "        return (\n",
    "            val_loss,\n",
    "            self.val_psnr.compute().item(),\n",
    "            self.val_ssim.compute().item(),\n",
    "        )\n",
    "\n",
    "    def _log_model_as_artifact(self, model_path):\n",
    "        artifact = wandb.Artifact(f\"best_model\", type=\"model\")\n",
    "        artifact.add_file(model_path)\n",
    "        wandb.log_artifact(artifact)"
   ]
  },
  {
   "cell_type": "code",
   "execution_count": 11,
   "metadata": {
    "execution": {
     "iopub.execute_input": "2025-03-30T22:10:20.831065Z",
     "iopub.status.busy": "2025-03-30T22:10:20.830386Z",
     "iopub.status.idle": "2025-03-30T22:10:20.835607Z",
     "shell.execute_reply": "2025-03-30T22:10:20.834677Z",
     "shell.execute_reply.started": "2025-03-30T22:10:20.831030Z"
    },
    "id": "9P84KVnhxbs6",
    "trusted": true
   },
   "outputs": [],
   "source": [
    "config = {\n",
    "    \"learning_rate\": 1e-4,  # Learning rate for the AdamW optimizer\n",
    "    \"batch_size\": 128,  # Batch size for training and validation\n",
    "    \"epochs\": 50,  # Number of training epochs\n",
    "    \"depth\": 20,   # Depth of the DnCNN model\n",
    "    \"channels\": 128 ,\n",
    "    \"patch_size\": 50,  # Size of the patches extracted from images\n",
    "    \"stride\": 25,  # Stride for the sliding window patch extraction\n",
    "    \"val_size\": 0.2,  # Fraction of data used for validation\n",
    "    \"checkpoint_dir\": \"./checkpoints\",  # Directory to save model checkpoints\n",
    "    \"log_interval\": 1,  # Log results every 1 epochs\n",
    "    \"wandb_enabled\": True,  # Enable Weights & Biases logging\n",
    "    \"wandb_mode\": \"online\",  # \"online\", \"offline\", or \"disabled\"\n",
    "    \"project_name\": \"ImageDenoising_1\",  # Project name for Weights & Biases\n",
    "    \"noisy_dir\": \"/kaggle/input/cbsd68/noisy35\",  # Directory containing noisy images\n",
    "    \"original_dir\": \"/kaggle/input/cbsd68/original_png\",  # Directory containing original images\n",
    "}"
   ]
  },
  {
   "cell_type": "code",
   "execution_count": 12,
   "metadata": {
    "execution": {
     "iopub.execute_input": "2025-03-30T22:10:24.322256Z",
     "iopub.status.busy": "2025-03-30T22:10:24.321930Z",
     "iopub.status.idle": "2025-03-30T22:10:31.514559Z",
     "shell.execute_reply": "2025-03-30T22:10:31.513887Z",
     "shell.execute_reply.started": "2025-03-30T22:10:24.322227Z"
    },
    "id": "R9p_QMGnxbs6",
    "trusted": true
   },
   "outputs": [
    {
     "name": "stdout",
     "output_type": "stream",
     "text": [
      "Preparing Data...\n",
      "Dataloaders prepared !!\n",
      "Model Initialized !!\n"
     ]
    },
    {
     "data": {
      "text/html": [
       "Tracking run with wandb version 0.19.1"
      ],
      "text/plain": [
       "<IPython.core.display.HTML object>"
      ]
     },
     "metadata": {},
     "output_type": "display_data"
    },
    {
     "data": {
      "text/html": [
       "Run data is saved locally in <code>/kaggle/working/wandb/run-20250330_221025-t50obw7f</code>"
      ],
      "text/plain": [
       "<IPython.core.display.HTML object>"
      ]
     },
     "metadata": {},
     "output_type": "display_data"
    },
    {
     "data": {
      "text/html": [
       "Syncing run <strong><a href='https://wandb.ai/shobhitshukla6535-iit-kharagpur/ImageDenoising_1/runs/t50obw7f' target=\"_blank\">breezy-deluge-18</a></strong> to <a href='https://wandb.ai/shobhitshukla6535-iit-kharagpur/ImageDenoising_1' target=\"_blank\">Weights & Biases</a> (<a href='https://wandb.me/developer-guide' target=\"_blank\">docs</a>)<br>"
      ],
      "text/plain": [
       "<IPython.core.display.HTML object>"
      ]
     },
     "metadata": {},
     "output_type": "display_data"
    },
    {
     "data": {
      "text/html": [
       " View project at <a href='https://wandb.ai/shobhitshukla6535-iit-kharagpur/ImageDenoising_1' target=\"_blank\">https://wandb.ai/shobhitshukla6535-iit-kharagpur/ImageDenoising_1</a>"
      ],
      "text/plain": [
       "<IPython.core.display.HTML object>"
      ]
     },
     "metadata": {},
     "output_type": "display_data"
    },
    {
     "data": {
      "text/html": [
       " View run at <a href='https://wandb.ai/shobhitshukla6535-iit-kharagpur/ImageDenoising_1/runs/t50obw7f' target=\"_blank\">https://wandb.ai/shobhitshukla6535-iit-kharagpur/ImageDenoising_1/runs/t50obw7f</a>"
      ],
      "text/plain": [
       "<IPython.core.display.HTML object>"
      ]
     },
     "metadata": {},
     "output_type": "display_data"
    }
   ],
   "source": [
    "trainer = Trainer(config=config)"
   ]
  },
  {
   "cell_type": "code",
   "execution_count": 13,
   "metadata": {
    "execution": {
     "iopub.execute_input": "2025-03-30T22:10:31.515839Z",
     "iopub.status.busy": "2025-03-30T22:10:31.515607Z",
     "iopub.status.idle": "2025-03-30T22:10:31.521321Z",
     "shell.execute_reply": "2025-03-30T22:10:31.520634Z",
     "shell.execute_reply.started": "2025-03-30T22:10:31.515819Z"
    },
    "trusted": true
   },
   "outputs": [
    {
     "data": {
      "text/plain": [
       "(85, 22)"
      ]
     },
     "execution_count": 13,
     "metadata": {},
     "output_type": "execute_result"
    }
   ],
   "source": [
    "len(trainer.train_loader), len(trainer.val_loader)"
   ]
  },
  {
   "cell_type": "code",
   "execution_count": 14,
   "metadata": {
    "execution": {
     "iopub.execute_input": "2025-03-30T22:10:49.476248Z",
     "iopub.status.busy": "2025-03-30T22:10:49.475945Z",
     "iopub.status.idle": "2025-03-31T00:43:13.732215Z",
     "shell.execute_reply": "2025-03-31T00:43:13.731508Z",
     "shell.execute_reply.started": "2025-03-30T22:10:49.476216Z"
    },
    "id": "CFPhSdJdxbs6",
    "scrolled": true,
    "trusted": true
   },
   "outputs": [
    {
     "name": "stderr",
     "output_type": "stream",
     "text": [
      "Epoch 1: 100%|██████████| 85/85 [02:41<00:00,  1.90s/it, Avg Loss=0.0227]\n"
     ]
    },
    {
     "name": "stdout",
     "output_type": "stream",
     "text": [
      "Latest Learning rate: [9.900000000000001e-05]\n",
      "Epoch 1/50, Step: 85, Train Loss: 0.023007, Val Loss: 0.014008, Train PSNR: 16.365007, Train SSIM: 0.471272, Val PSNR: 18.532881, Val SSIM: 0.462939\n",
      "New best model found at epoch 1 with val PSNR: 18.532881\n"
     ]
    },
    {
     "name": "stderr",
     "output_type": "stream",
     "text": [
      "Epoch 2: 100%|██████████| 85/85 [02:39<00:00,  1.88s/it, Avg Loss=0.0177]\n"
     ]
    },
    {
     "name": "stdout",
     "output_type": "stream",
     "text": [
      "Latest Learning rate: [9.801e-05]\n",
      "Epoch 2/50, Step: 170, Train Loss: 0.012631, Val Loss: 0.010696, Train PSNR: 18.978928, Train SSIM: 0.463005, Val PSNR: 19.697124, Val SSIM: 0.485997\n",
      "New best model found at epoch 2 with val PSNR: 19.697124\n"
     ]
    },
    {
     "name": "stderr",
     "output_type": "stream",
     "text": [
      "Epoch 3: 100%|██████████| 85/85 [02:32<00:00,  1.79s/it, Avg Loss=0.0145]\n"
     ]
    },
    {
     "name": "stdout",
     "output_type": "stream",
     "text": [
      "Latest Learning rate: [9.70299e-05]\n",
      "Epoch 3/50, Step: 255, Train Loss: 0.008123, Val Loss: 0.006553, Train PSNR: 20.893295, Train SSIM: 0.533189, Val PSNR: 21.816082, Val SSIM: 0.573324\n",
      "New best model found at epoch 3 with val PSNR: 21.816082\n"
     ]
    },
    {
     "name": "stderr",
     "output_type": "stream",
     "text": [
      "Epoch 4: 100%|██████████| 85/85 [02:31<00:00,  1.78s/it, Avg Loss=0.0123]\n"
     ]
    },
    {
     "name": "stdout",
     "output_type": "stream",
     "text": [
      "Latest Learning rate: [9.605960100000001e-05]\n",
      "Epoch 4/50, Step: 340, Train Loss: 0.005448, Val Loss: 0.004885, Train PSNR: 22.631937, Train SSIM: 0.597945, Val PSNR: 23.078238, Val SSIM: 0.625625\n",
      "New best model found at epoch 4 with val PSNR: 23.078238\n"
     ]
    },
    {
     "name": "stderr",
     "output_type": "stream",
     "text": [
      "Epoch 5: 100%|██████████| 85/85 [02:32<00:00,  1.80s/it, Avg Loss=0.0107]\n"
     ]
    },
    {
     "name": "stdout",
     "output_type": "stream",
     "text": [
      "Latest Learning rate: [9.509900499000001e-05]\n",
      "Epoch 5/50, Step: 425, Train Loss: 0.004429, Val Loss: 0.007568, Train PSNR: 23.541306, Train SSIM: 0.638036, Val PSNR: 21.111273, Val SSIM: 0.671938\n"
     ]
    },
    {
     "name": "stderr",
     "output_type": "stream",
     "text": [
      "Epoch 6: 100%|██████████| 85/85 [02:31<00:00,  1.79s/it, Avg Loss=0.00961]\n"
     ]
    },
    {
     "name": "stdout",
     "output_type": "stream",
     "text": [
      "Latest Learning rate: [9.414801494010001e-05]\n",
      "Epoch 6/50, Step: 510, Train Loss: 0.004112, Val Loss: 0.003603, Train PSNR: 23.854906, Train SSIM: 0.659295, Val PSNR: 24.396849, Val SSIM: 0.685124\n",
      "New best model found at epoch 6 with val PSNR: 24.396849\n"
     ]
    },
    {
     "name": "stderr",
     "output_type": "stream",
     "text": [
      "Epoch 7: 100%|██████████| 85/85 [02:30<00:00,  1.78s/it, Avg Loss=0.00874]\n"
     ]
    },
    {
     "name": "stdout",
     "output_type": "stream",
     "text": [
      "Latest Learning rate: [9.320653479069902e-05]\n",
      "Epoch 7/50, Step: 595, Train Loss: 0.003500, Val Loss: 0.003331, Train PSNR: 24.558495, Train SSIM: 0.690948, Val PSNR: 24.735630, Val SSIM: 0.708282\n",
      "New best model found at epoch 7 with val PSNR: 24.735630\n"
     ]
    },
    {
     "name": "stderr",
     "output_type": "stream",
     "text": [
      "Epoch 8: 100%|██████████| 85/85 [02:30<00:00,  1.77s/it, Avg Loss=0.00805]\n"
     ]
    },
    {
     "name": "stdout",
     "output_type": "stream",
     "text": [
      "Latest Learning rate: [9.227446944279203e-05]\n",
      "Epoch 8/50, Step: 680, Train Loss: 0.003218, Val Loss: 0.003123, Train PSNR: 24.922659, Train SSIM: 0.710483, Val PSNR: 25.010735, Val SSIM: 0.726615\n",
      "New best model found at epoch 8 with val PSNR: 25.010735\n"
     ]
    },
    {
     "name": "stderr",
     "output_type": "stream",
     "text": [
      "Epoch 9: 100%|██████████| 85/85 [02:30<00:00,  1.77s/it, Avg Loss=0.00749]\n"
     ]
    },
    {
     "name": "stdout",
     "output_type": "stream",
     "text": [
      "Latest Learning rate: [9.13517247483641e-05]\n",
      "Epoch 9/50, Step: 765, Train Loss: 0.003008, Val Loss: 0.002991, Train PSNR: 25.216673, Train SSIM: 0.727246, Val PSNR: 25.196886, Val SSIM: 0.738784\n",
      "New best model found at epoch 9 with val PSNR: 25.196886\n"
     ]
    },
    {
     "name": "stderr",
     "output_type": "stream",
     "text": [
      "Epoch 10: 100%|██████████| 85/85 [02:31<00:00,  1.78s/it, Avg Loss=0.00703]\n"
     ]
    },
    {
     "name": "stdout",
     "output_type": "stream",
     "text": [
      "Latest Learning rate: [9.043820750088047e-05]\n",
      "Epoch 10/50, Step: 850, Train Loss: 0.002896, Val Loss: 0.002791, Train PSNR: 25.379793, Train SSIM: 0.735149, Val PSNR: 25.500885, Val SSIM: 0.747888\n",
      "New best model found at epoch 10 with val PSNR: 25.500885\n"
     ]
    },
    {
     "name": "stderr",
     "output_type": "stream",
     "text": [
      "Epoch 11: 100%|██████████| 85/85 [02:31<00:00,  1.78s/it, Avg Loss=0.00664]\n"
     ]
    },
    {
     "name": "stdout",
     "output_type": "stream",
     "text": [
      "Latest Learning rate: [8.953382542587167e-05]\n",
      "Epoch 11/50, Step: 935, Train Loss: 0.002732, Val Loss: 0.002755, Train PSNR: 25.634224, Train SSIM: 0.748433, Val PSNR: 25.551235, Val SSIM: 0.759833\n",
      "New best model found at epoch 11 with val PSNR: 25.551235\n"
     ]
    },
    {
     "name": "stderr",
     "output_type": "stream",
     "text": [
      "Epoch 12: 100%|██████████| 85/85 [02:31<00:00,  1.78s/it, Avg Loss=0.00631]\n"
     ]
    },
    {
     "name": "stdout",
     "output_type": "stream",
     "text": [
      "Latest Learning rate: [8.863848717161295e-05]\n",
      "Epoch 12/50, Step: 1020, Train Loss: 0.002637, Val Loss: 0.002602, Train PSNR: 25.787102, Train SSIM: 0.756248, Val PSNR: 25.800793, Val SSIM: 0.760383\n",
      "New best model found at epoch 12 with val PSNR: 25.800793\n"
     ]
    },
    {
     "name": "stderr",
     "output_type": "stream",
     "text": [
      "Epoch 13: 100%|██████████| 85/85 [02:31<00:00,  1.78s/it, Avg Loss=0.00602]\n"
     ]
    },
    {
     "name": "stdout",
     "output_type": "stream",
     "text": [
      "Latest Learning rate: [8.775210229989682e-05]\n",
      "Epoch 13/50, Step: 1105, Train Loss: 0.002617, Val Loss: 0.002704, Train PSNR: 25.820852, Train SSIM: 0.758098, Val PSNR: 25.650509, Val SSIM: 0.748137\n"
     ]
    },
    {
     "name": "stderr",
     "output_type": "stream",
     "text": [
      "Epoch 14: 100%|██████████| 85/85 [02:31<00:00,  1.78s/it, Avg Loss=0.00577]\n"
     ]
    },
    {
     "name": "stdout",
     "output_type": "stream",
     "text": [
      "Latest Learning rate: [8.687458127689785e-05]\n",
      "Epoch 14/50, Step: 1190, Train Loss: 0.002521, Val Loss: 0.002419, Train PSNR: 25.980480, Train SSIM: 0.762220, Val PSNR: 26.116413, Val SSIM: 0.771629\n",
      "New best model found at epoch 14 with val PSNR: 26.116413\n"
     ]
    },
    {
     "name": "stderr",
     "output_type": "stream",
     "text": [
      "Epoch 15: 100%|██████████| 85/85 [02:31<00:00,  1.78s/it, Avg Loss=0.00555]\n"
     ]
    },
    {
     "name": "stdout",
     "output_type": "stream",
     "text": [
      "Latest Learning rate: [8.600583546412887e-05]\n",
      "Epoch 15/50, Step: 1275, Train Loss: 0.002385, Val Loss: 0.002380, Train PSNR: 26.224407, Train SSIM: 0.773776, Val PSNR: 26.183857, Val SSIM: 0.773465\n",
      "New best model found at epoch 15 with val PSNR: 26.183857\n"
     ]
    },
    {
     "name": "stderr",
     "output_type": "stream",
     "text": [
      "Epoch 16: 100%|██████████| 85/85 [02:31<00:00,  1.78s/it, Avg Loss=0.00534]\n"
     ]
    },
    {
     "name": "stdout",
     "output_type": "stream",
     "text": [
      "Latest Learning rate: [8.514577710948758e-05]\n",
      "Epoch 16/50, Step: 1360, Train Loss: 0.002296, Val Loss: 0.002305, Train PSNR: 26.390009, Train SSIM: 0.780636, Val PSNR: 26.322353, Val SSIM: 0.773997\n",
      "New best model found at epoch 16 with val PSNR: 26.322353\n"
     ]
    },
    {
     "name": "stderr",
     "output_type": "stream",
     "text": [
      "Epoch 17: 100%|██████████| 85/85 [02:31<00:00,  1.79s/it, Avg Loss=0.00516]\n"
     ]
    },
    {
     "name": "stdout",
     "output_type": "stream",
     "text": [
      "Latest Learning rate: [8.429431933839271e-05]\n",
      "Epoch 17/50, Step: 1445, Train Loss: 0.002228, Val Loss: 0.002318, Train PSNR: 26.520006, Train SSIM: 0.785409, Val PSNR: 26.294889, Val SSIM: 0.776671\n"
     ]
    },
    {
     "name": "stderr",
     "output_type": "stream",
     "text": [
      "Epoch 18: 100%|██████████| 85/85 [02:30<00:00,  1.77s/it, Avg Loss=0.00499]\n"
     ]
    },
    {
     "name": "stdout",
     "output_type": "stream",
     "text": [
      "Latest Learning rate: [8.345137614500879e-05]\n",
      "Epoch 18/50, Step: 1530, Train Loss: 0.002169, Val Loss: 0.002162, Train PSNR: 26.636225, Train SSIM: 0.790877, Val PSNR: 26.600910, Val SSIM: 0.787920\n",
      "New best model found at epoch 18 with val PSNR: 26.600910\n"
     ]
    },
    {
     "name": "stderr",
     "output_type": "stream",
     "text": [
      "Epoch 19: 100%|██████████| 85/85 [02:31<00:00,  1.78s/it, Avg Loss=0.00484]\n"
     ]
    },
    {
     "name": "stdout",
     "output_type": "stream",
     "text": [
      "Latest Learning rate: [8.26168623835587e-05]\n",
      "Epoch 19/50, Step: 1615, Train Loss: 0.002118, Val Loss: 0.002058, Train PSNR: 26.736382, Train SSIM: 0.788267, Val PSNR: 26.818308, Val SSIM: 0.790829\n",
      "New best model found at epoch 19 with val PSNR: 26.818308\n"
     ]
    },
    {
     "name": "stderr",
     "output_type": "stream",
     "text": [
      "Epoch 20: 100%|██████████| 85/85 [02:30<00:00,  1.77s/it, Avg Loss=0.0047] \n"
     ]
    },
    {
     "name": "stdout",
     "output_type": "stream",
     "text": [
      "Latest Learning rate: [8.17906937597231e-05]\n",
      "Epoch 20/50, Step: 1700, Train Loss: 0.002024, Val Loss: 0.002023, Train PSNR: 26.935766, Train SSIM: 0.799996, Val PSNR: 26.892195, Val SSIM: 0.798195\n",
      "New best model found at epoch 20 with val PSNR: 26.892195\n"
     ]
    },
    {
     "name": "stderr",
     "output_type": "stream",
     "text": [
      "Epoch 21: 100%|██████████| 85/85 [02:30<00:00,  1.77s/it, Avg Loss=0.00457]\n"
     ]
    },
    {
     "name": "stdout",
     "output_type": "stream",
     "text": [
      "Latest Learning rate: [8.097278682212587e-05]\n",
      "Epoch 21/50, Step: 1785, Train Loss: 0.001978, Val Loss: 0.001984, Train PSNR: 27.033785, Train SSIM: 0.805267, Val PSNR: 26.973785, Val SSIM: 0.803734\n",
      "New best model found at epoch 21 with val PSNR: 26.973785\n"
     ]
    },
    {
     "name": "stderr",
     "output_type": "stream",
     "text": [
      "Epoch 22: 100%|██████████| 85/85 [02:30<00:00,  1.78s/it, Avg Loss=0.00445]\n"
     ]
    },
    {
     "name": "stdout",
     "output_type": "stream",
     "text": [
      "Latest Learning rate: [8.016305895390461e-05]\n",
      "Epoch 22/50, Step: 1870, Train Loss: 0.001941, Val Loss: 0.001950, Train PSNR: 27.116322, Train SSIM: 0.808832, Val PSNR: 27.050407, Val SSIM: 0.808962\n",
      "New best model found at epoch 22 with val PSNR: 27.050407\n"
     ]
    },
    {
     "name": "stderr",
     "output_type": "stream",
     "text": [
      "Epoch 23: 100%|██████████| 85/85 [02:30<00:00,  1.77s/it, Avg Loss=0.00434]\n"
     ]
    },
    {
     "name": "stdout",
     "output_type": "stream",
     "text": [
      "Latest Learning rate: [7.936142836436556e-05]\n",
      "Epoch 23/50, Step: 1955, Train Loss: 0.001910, Val Loss: 0.001931, Train PSNR: 27.186375, Train SSIM: 0.811800, Val PSNR: 27.091114, Val SSIM: 0.812251\n",
      "New best model found at epoch 23 with val PSNR: 27.091114\n"
     ]
    },
    {
     "name": "stderr",
     "output_type": "stream",
     "text": [
      "Epoch 24: 100%|██████████| 85/85 [02:31<00:00,  1.78s/it, Avg Loss=0.00424]\n"
     ]
    },
    {
     "name": "stdout",
     "output_type": "stream",
     "text": [
      "Latest Learning rate: [7.856781408072191e-05]\n",
      "Epoch 24/50, Step: 2040, Train Loss: 0.001883, Val Loss: 0.001907, Train PSNR: 27.247984, Train SSIM: 0.814314, Val PSNR: 27.146177, Val SSIM: 0.815740\n",
      "New best model found at epoch 24 with val PSNR: 27.146177\n"
     ]
    },
    {
     "name": "stderr",
     "output_type": "stream",
     "text": [
      "Epoch 25: 100%|██████████| 85/85 [02:31<00:00,  1.78s/it, Avg Loss=0.00414]\n"
     ]
    },
    {
     "name": "stdout",
     "output_type": "stream",
     "text": [
      "Latest Learning rate: [7.778213593991469e-05]\n",
      "Epoch 25/50, Step: 2125, Train Loss: 0.001860, Val Loss: 0.001878, Train PSNR: 27.302620, Train SSIM: 0.816439, Val PSNR: 27.210909, Val SSIM: 0.819427\n",
      "New best model found at epoch 25 with val PSNR: 27.210909\n"
     ]
    },
    {
     "name": "stderr",
     "output_type": "stream",
     "text": [
      "Epoch 26: 100%|██████████| 85/85 [02:30<00:00,  1.77s/it, Avg Loss=0.00406]\n"
     ]
    },
    {
     "name": "stdout",
     "output_type": "stream",
     "text": [
      "Latest Learning rate: [7.700431458051554e-05]\n",
      "Epoch 26/50, Step: 2210, Train Loss: 0.001838, Val Loss: 0.001854, Train PSNR: 27.352169, Train SSIM: 0.818334, Val PSNR: 27.266544, Val SSIM: 0.821938\n",
      "New best model found at epoch 26 with val PSNR: 27.266544\n"
     ]
    },
    {
     "name": "stderr",
     "output_type": "stream",
     "text": [
      "Epoch 27: 100%|██████████| 85/85 [02:30<00:00,  1.77s/it, Avg Loss=0.00397]\n"
     ]
    },
    {
     "name": "stdout",
     "output_type": "stream",
     "text": [
      "Latest Learning rate: [7.623427143471038e-05]\n",
      "Epoch 27/50, Step: 2295, Train Loss: 0.001820, Val Loss: 0.001852, Train PSNR: 27.395916, Train SSIM: 0.820209, Val PSNR: 27.271164, Val SSIM: 0.822068\n",
      "New best model found at epoch 27 with val PSNR: 27.271164\n"
     ]
    },
    {
     "name": "stderr",
     "output_type": "stream",
     "text": [
      "Epoch 28: 100%|██████████| 85/85 [02:31<00:00,  1.79s/it, Avg Loss=0.0039] \n"
     ]
    },
    {
     "name": "stdout",
     "output_type": "stream",
     "text": [
      "Latest Learning rate: [7.547192872036328e-05]\n",
      "Epoch 28/50, Step: 2380, Train Loss: 0.001804, Val Loss: 0.001838, Train PSNR: 27.433455, Train SSIM: 0.821955, Val PSNR: 27.303186, Val SSIM: 0.823109\n",
      "New best model found at epoch 28 with val PSNR: 27.303186\n"
     ]
    },
    {
     "name": "stderr",
     "output_type": "stream",
     "text": [
      "Epoch 29: 100%|██████████| 85/85 [02:30<00:00,  1.77s/it, Avg Loss=0.00382]\n"
     ]
    },
    {
     "name": "stdout",
     "output_type": "stream",
     "text": [
      "Latest Learning rate: [7.471720943315964e-05]\n",
      "Epoch 29/50, Step: 2465, Train Loss: 0.001791, Val Loss: 0.001819, Train PSNR: 27.466026, Train SSIM: 0.823470, Val PSNR: 27.347178, Val SSIM: 0.824595\n",
      "New best model found at epoch 29 with val PSNR: 27.347178\n"
     ]
    },
    {
     "name": "stderr",
     "output_type": "stream",
     "text": [
      "Epoch 30: 100%|██████████| 85/85 [02:30<00:00,  1.77s/it, Avg Loss=0.00376]\n"
     ]
    },
    {
     "name": "stdout",
     "output_type": "stream",
     "text": [
      "Latest Learning rate: [7.397003733882805e-05]\n",
      "Epoch 30/50, Step: 2550, Train Loss: 0.001780, Val Loss: 0.001803, Train PSNR: 27.493305, Train SSIM: 0.824600, Val PSNR: 27.384743, Val SSIM: 0.825887\n",
      "New best model found at epoch 30 with val PSNR: 27.384743\n"
     ]
    },
    {
     "name": "stderr",
     "output_type": "stream",
     "text": [
      "Epoch 31: 100%|██████████| 85/85 [02:30<00:00,  1.78s/it, Avg Loss=0.00369]\n"
     ]
    },
    {
     "name": "stdout",
     "output_type": "stream",
     "text": [
      "Latest Learning rate: [7.323033696543977e-05]\n",
      "Epoch 31/50, Step: 2635, Train Loss: 0.001772, Val Loss: 0.001785, Train PSNR: 27.511215, Train SSIM: 0.825069, Val PSNR: 27.427885, Val SSIM: 0.827392\n",
      "New best model found at epoch 31 with val PSNR: 27.427885\n"
     ]
    },
    {
     "name": "stderr",
     "output_type": "stream",
     "text": [
      "Epoch 32: 100%|██████████| 85/85 [02:31<00:00,  1.78s/it, Avg Loss=0.00363]\n"
     ]
    },
    {
     "name": "stdout",
     "output_type": "stream",
     "text": [
      "Latest Learning rate: [7.249803359578537e-05]\n",
      "Epoch 32/50, Step: 2720, Train Loss: 0.001767, Val Loss: 0.001758, Train PSNR: 27.523701, Train SSIM: 0.825235, Val PSNR: 27.493128, Val SSIM: 0.830361\n",
      "New best model found at epoch 32 with val PSNR: 27.493128\n"
     ]
    },
    {
     "name": "stderr",
     "output_type": "stream",
     "text": [
      "Epoch 33: 100%|██████████| 85/85 [02:29<00:00,  1.76s/it, Avg Loss=0.00357]\n"
     ]
    },
    {
     "name": "stdout",
     "output_type": "stream",
     "text": [
      "Latest Learning rate: [7.177305325982752e-05]\n",
      "Epoch 33/50, Step: 2805, Train Loss: 0.001751, Val Loss: 0.001741, Train PSNR: 27.562971, Train SSIM: 0.827376, Val PSNR: 27.535046, Val SSIM: 0.832472\n",
      "New best model found at epoch 33 with val PSNR: 27.535046\n"
     ]
    },
    {
     "name": "stderr",
     "output_type": "stream",
     "text": [
      "Epoch 34: 100%|██████████| 85/85 [02:29<00:00,  1.76s/it, Avg Loss=0.00352]\n"
     ]
    },
    {
     "name": "stdout",
     "output_type": "stream",
     "text": [
      "Latest Learning rate: [7.105532272722923e-05]\n",
      "Epoch 34/50, Step: 2890, Train Loss: 0.001737, Val Loss: 0.001727, Train PSNR: 27.597557, Train SSIM: 0.829269, Val PSNR: 27.571507, Val SSIM: 0.834022\n",
      "New best model found at epoch 34 with val PSNR: 27.571507\n"
     ]
    },
    {
     "name": "stderr",
     "output_type": "stream",
     "text": [
      "Epoch 35: 100%|██████████| 85/85 [02:29<00:00,  1.76s/it, Avg Loss=0.00347]\n"
     ]
    },
    {
     "name": "stdout",
     "output_type": "stream",
     "text": [
      "Latest Learning rate: [7.034476949995695e-05]\n",
      "Epoch 35/50, Step: 2975, Train Loss: 0.001726, Val Loss: 0.001713, Train PSNR: 27.624855, Train SSIM: 0.830597, Val PSNR: 27.605396, Val SSIM: 0.835326\n",
      "New best model found at epoch 35 with val PSNR: 27.605396\n"
     ]
    },
    {
     "name": "stderr",
     "output_type": "stream",
     "text": [
      "Epoch 36: 100%|██████████| 85/85 [02:30<00:00,  1.77s/it, Avg Loss=0.00342]\n"
     ]
    },
    {
     "name": "stdout",
     "output_type": "stream",
     "text": [
      "Latest Learning rate: [6.964132180495738e-05]\n",
      "Epoch 36/50, Step: 3060, Train Loss: 0.001716, Val Loss: 0.001701, Train PSNR: 27.650093, Train SSIM: 0.831734, Val PSNR: 27.635126, Val SSIM: 0.836658\n",
      "New best model found at epoch 36 with val PSNR: 27.635126\n"
     ]
    },
    {
     "name": "stderr",
     "output_type": "stream",
     "text": [
      "Epoch 37: 100%|██████████| 85/85 [02:31<00:00,  1.78s/it, Avg Loss=0.00337]\n"
     ]
    },
    {
     "name": "stdout",
     "output_type": "stream",
     "text": [
      "Latest Learning rate: [6.89449085869078e-05]\n",
      "Epoch 37/50, Step: 3145, Train Loss: 0.001707, Val Loss: 0.001693, Train PSNR: 27.673485, Train SSIM: 0.832682, Val PSNR: 27.655329, Val SSIM: 0.837628\n",
      "New best model found at epoch 37 with val PSNR: 27.655329\n"
     ]
    },
    {
     "name": "stderr",
     "output_type": "stream",
     "text": [
      "Epoch 38: 100%|██████████| 85/85 [02:31<00:00,  1.78s/it, Avg Loss=0.00333]\n"
     ]
    },
    {
     "name": "stdout",
     "output_type": "stream",
     "text": [
      "Latest Learning rate: [6.825545950103872e-05]\n",
      "Epoch 38/50, Step: 3230, Train Loss: 0.001699, Val Loss: 0.001686, Train PSNR: 27.695148, Train SSIM: 0.833529, Val PSNR: 27.673908, Val SSIM: 0.838559\n",
      "New best model found at epoch 38 with val PSNR: 27.673908\n"
     ]
    },
    {
     "name": "stderr",
     "output_type": "stream",
     "text": [
      "Epoch 39: 100%|██████████| 85/85 [02:32<00:00,  1.80s/it, Avg Loss=0.00329]\n"
     ]
    },
    {
     "name": "stdout",
     "output_type": "stream",
     "text": [
      "Latest Learning rate: [6.757290490602833e-05]\n",
      "Epoch 39/50, Step: 3315, Train Loss: 0.001691, Val Loss: 0.001681, Train PSNR: 27.715418, Train SSIM: 0.834296, Val PSNR: 27.686129, Val SSIM: 0.839369\n",
      "New best model found at epoch 39 with val PSNR: 27.686129\n"
     ]
    },
    {
     "name": "stderr",
     "output_type": "stream",
     "text": [
      "Epoch 40: 100%|██████████| 85/85 [02:31<00:00,  1.78s/it, Avg Loss=0.00325]\n"
     ]
    },
    {
     "name": "stdout",
     "output_type": "stream",
     "text": [
      "Latest Learning rate: [6.689717585696805e-05]\n",
      "Epoch 40/50, Step: 3400, Train Loss: 0.001683, Val Loss: 0.001676, Train PSNR: 27.734499, Train SSIM: 0.835014, Val PSNR: 27.698294, Val SSIM: 0.838953\n",
      "New best model found at epoch 40 with val PSNR: 27.698294\n"
     ]
    },
    {
     "name": "stderr",
     "output_type": "stream",
     "text": [
      "Epoch 41: 100%|██████████| 85/85 [02:31<00:00,  1.78s/it, Avg Loss=0.00321]\n"
     ]
    },
    {
     "name": "stdout",
     "output_type": "stream",
     "text": [
      "Latest Learning rate: [6.622820409839837e-05]\n",
      "Epoch 41/50, Step: 3485, Train Loss: 0.001676, Val Loss: 0.001673, Train PSNR: 27.753223, Train SSIM: 0.835882, Val PSNR: 27.705324, Val SSIM: 0.838017\n",
      "New best model found at epoch 41 with val PSNR: 27.705324\n"
     ]
    },
    {
     "name": "stderr",
     "output_type": "stream",
     "text": [
      "Epoch 42: 100%|██████████| 85/85 [02:31<00:00,  1.78s/it, Avg Loss=0.00317]\n"
     ]
    },
    {
     "name": "stdout",
     "output_type": "stream",
     "text": [
      "Latest Learning rate: [6.556592205741439e-05]\n",
      "Epoch 42/50, Step: 3570, Train Loss: 0.001669, Val Loss: 0.001670, Train PSNR: 27.770716, Train SSIM: 0.836564, Val PSNR: 27.712555, Val SSIM: 0.837056\n",
      "New best model found at epoch 42 with val PSNR: 27.712555\n"
     ]
    },
    {
     "name": "stderr",
     "output_type": "stream",
     "text": [
      "Epoch 43: 100%|██████████| 85/85 [02:31<00:00,  1.78s/it, Avg Loss=0.00314]\n"
     ]
    },
    {
     "name": "stdout",
     "output_type": "stream",
     "text": [
      "Latest Learning rate: [6.491026283684025e-05]\n",
      "Epoch 43/50, Step: 3655, Train Loss: 0.001663, Val Loss: 0.001667, Train PSNR: 27.787552, Train SSIM: 0.837161, Val PSNR: 27.721560, Val SSIM: 0.836322\n",
      "New best model found at epoch 43 with val PSNR: 27.721560\n"
     ]
    },
    {
     "name": "stderr",
     "output_type": "stream",
     "text": [
      "Epoch 44: 100%|██████████| 85/85 [02:30<00:00,  1.77s/it, Avg Loss=0.0031] \n"
     ]
    },
    {
     "name": "stdout",
     "output_type": "stream",
     "text": [
      "Latest Learning rate: [6.426116020847184e-05]\n",
      "Epoch 44/50, Step: 3740, Train Loss: 0.001657, Val Loss: 0.001662, Train PSNR: 27.803097, Train SSIM: 0.837496, Val PSNR: 27.733589, Val SSIM: 0.837177\n",
      "New best model found at epoch 44 with val PSNR: 27.733589\n"
     ]
    },
    {
     "name": "stderr",
     "output_type": "stream",
     "text": [
      "Epoch 45: 100%|██████████| 85/85 [02:30<00:00,  1.77s/it, Avg Loss=0.00307]\n"
     ]
    },
    {
     "name": "stdout",
     "output_type": "stream",
     "text": [
      "Latest Learning rate: [6.361854860638712e-05]\n",
      "Epoch 45/50, Step: 3825, Train Loss: 0.001651, Val Loss: 0.001658, Train PSNR: 27.817953, Train SSIM: 0.837830, Val PSNR: 27.744463, Val SSIM: 0.837452\n",
      "New best model found at epoch 45 with val PSNR: 27.744463\n"
     ]
    },
    {
     "name": "stderr",
     "output_type": "stream",
     "text": [
      "Epoch 46: 100%|██████████| 85/85 [02:31<00:00,  1.78s/it, Avg Loss=0.00304]\n"
     ]
    },
    {
     "name": "stdout",
     "output_type": "stream",
     "text": [
      "Latest Learning rate: [6.298236312032325e-05]\n",
      "Epoch 46/50, Step: 3910, Train Loss: 0.001646, Val Loss: 0.001654, Train PSNR: 27.832136, Train SSIM: 0.838267, Val PSNR: 27.755814, Val SSIM: 0.837705\n",
      "New best model found at epoch 46 with val PSNR: 27.755814\n"
     ]
    },
    {
     "name": "stderr",
     "output_type": "stream",
     "text": [
      "Epoch 47: 100%|██████████| 85/85 [02:30<00:00,  1.77s/it, Avg Loss=0.00301]\n"
     ]
    },
    {
     "name": "stdout",
     "output_type": "stream",
     "text": [
      "Latest Learning rate: [6.235253948912002e-05]\n",
      "Epoch 47/50, Step: 3995, Train Loss: 0.001641, Val Loss: 0.001649, Train PSNR: 27.845942, Train SSIM: 0.838731, Val PSNR: 27.766977, Val SSIM: 0.838429\n",
      "New best model found at epoch 47 with val PSNR: 27.766977\n"
     ]
    },
    {
     "name": "stderr",
     "output_type": "stream",
     "text": [
      "Epoch 48: 100%|██████████| 85/85 [02:30<00:00,  1.77s/it, Avg Loss=0.00298]\n"
     ]
    },
    {
     "name": "stdout",
     "output_type": "stream",
     "text": [
      "Latest Learning rate: [6.172901409422881e-05]\n",
      "Epoch 48/50, Step: 4080, Train Loss: 0.001635, Val Loss: 0.001646, Train PSNR: 27.859838, Train SSIM: 0.839258, Val PSNR: 27.776571, Val SSIM: 0.839040\n",
      "New best model found at epoch 48 with val PSNR: 27.776571\n"
     ]
    },
    {
     "name": "stderr",
     "output_type": "stream",
     "text": [
      "Epoch 49: 100%|██████████| 85/85 [02:30<00:00,  1.77s/it, Avg Loss=0.00295]\n"
     ]
    },
    {
     "name": "stdout",
     "output_type": "stream",
     "text": [
      "Latest Learning rate: [6.111172395328652e-05]\n",
      "Epoch 49/50, Step: 4165, Train Loss: 0.001630, Val Loss: 0.001641, Train PSNR: 27.873386, Train SSIM: 0.839805, Val PSNR: 27.787205, Val SSIM: 0.839647\n",
      "New best model found at epoch 49 with val PSNR: 27.787205\n"
     ]
    },
    {
     "name": "stderr",
     "output_type": "stream",
     "text": [
      "Epoch 50: 100%|██████████| 85/85 [02:30<00:00,  1.77s/it, Avg Loss=0.00293]\n"
     ]
    },
    {
     "name": "stdout",
     "output_type": "stream",
     "text": [
      "Latest Learning rate: [6.050060671375366e-05]\n",
      "Epoch 50/50, Step: 4250, Train Loss: 0.001625, Val Loss: 0.001639, Train PSNR: 27.886539, Train SSIM: 0.840293, Val PSNR: 27.794825, Val SSIM: 0.840311\n",
      "New best model found at epoch 50 with val PSNR: 27.794825\n"
     ]
    },
    {
     "data": {
      "text/html": [],
      "text/plain": [
       "<IPython.core.display.HTML object>"
      ]
     },
     "metadata": {},
     "output_type": "display_data"
    },
    {
     "data": {
      "text/html": [
       "<br>    <style><br>        .wandb-row {<br>            display: flex;<br>            flex-direction: row;<br>            flex-wrap: wrap;<br>            justify-content: flex-start;<br>            width: 100%;<br>        }<br>        .wandb-col {<br>            display: flex;<br>            flex-direction: column;<br>            flex-basis: 100%;<br>            flex: 1;<br>            padding: 10px;<br>        }<br>    </style><br><div class=\"wandb-row\"><div class=\"wandb-col\"><h3>Run history:</h3><br/><table class=\"wandb\"><tr><td>avg loss</td><td>█▇▅▄▃▃▂▂▂▂▂▂▂▁▁▁▁▁▁▁▁▁▁▁▁▁▁▁▁▁▁▁▁▁▁▁▁▁▁▁</td></tr><tr><td>best_val_psnr</td><td>▁▂▃▄▅▆▆▆▆▆▇▇▇▇▇▇▇███████████████████████</td></tr><tr><td>epoch</td><td>▁▁▁▁▂▂▂▂▂▂▃▃▃▃▃▄▄▄▄▄▅▅▅▅▅▅▆▆▆▆▆▆▇▇▇▇▇███</td></tr><tr><td>train_loss</td><td>█▅▃▂▂▂▂▁▁▁▁▁▁▁▁▁▁▁▁▁▁▁▁▁▁▁▁▁▁▁▁▁▁▁▁▁▁▁▁▁</td></tr><tr><td>train_psnr</td><td>▁▃▄▅▅▆▆▆▇▇▇▇▇▇▇▇▇███████████████████████</td></tr><tr><td>train_ssim</td><td>▁▁▂▄▄▆▆▆▆▆▇▇▇▇▇▇▇▇██████████████████████</td></tr><tr><td>training_step</td><td>▁▁▁▁▂▂▂▂▂▂▂▂▃▃▃▃▃▄▄▄▄▅▅▅▅▅▆▆▆▆▇▇▇▇▇▇▇███</td></tr><tr><td>val_loss</td><td>█▆▄▃▄▂▂▂▂▂▁▁▁▁▁▁▁▁▁▁▁▁▁▁▁▁▁▁▁▁▁▁▁▁▁▁▁▁▁▁</td></tr><tr><td>val_psnr</td><td>▁▂▃▄▃▆▆▆▆▆▆▇▇▇▇▇▇▇██████████████████████</td></tr><tr><td>val_ssim</td><td>▁▁▃▄▅▆▆▆▇▇▇▇▇▇▇▇▇▇▇█████████████████████</td></tr></table><br/></div><div class=\"wandb-col\"><h3>Run summary:</h3><br/><table class=\"wandb\"><tr><td>avg loss</td><td>0.00293</td></tr><tr><td>best_val_psnr</td><td>27.79482</td></tr><tr><td>epoch</td><td>50</td></tr><tr><td>train_loss</td><td>0.00163</td></tr><tr><td>train_psnr</td><td>27.88654</td></tr><tr><td>train_ssim</td><td>0.84029</td></tr><tr><td>training_step</td><td>4249</td></tr><tr><td>val_loss</td><td>0.00164</td></tr><tr><td>val_psnr</td><td>27.79482</td></tr><tr><td>val_ssim</td><td>0.84031</td></tr></table><br/></div></div>"
      ],
      "text/plain": [
       "<IPython.core.display.HTML object>"
      ]
     },
     "metadata": {},
     "output_type": "display_data"
    },
    {
     "data": {
      "text/html": [
       " View run <strong style=\"color:#cdcd00\">breezy-deluge-18</strong> at: <a href='https://wandb.ai/shobhitshukla6535-iit-kharagpur/ImageDenoising_1/runs/t50obw7f' target=\"_blank\">https://wandb.ai/shobhitshukla6535-iit-kharagpur/ImageDenoising_1/runs/t50obw7f</a><br> View project at: <a href='https://wandb.ai/shobhitshukla6535-iit-kharagpur/ImageDenoising_1' target=\"_blank\">https://wandb.ai/shobhitshukla6535-iit-kharagpur/ImageDenoising_1</a><br>Synced 5 W&B file(s), 0 media file(s), 94 artifact file(s) and 1 other file(s)"
      ],
      "text/plain": [
       "<IPython.core.display.HTML object>"
      ]
     },
     "metadata": {},
     "output_type": "display_data"
    },
    {
     "data": {
      "text/html": [
       "Find logs at: <code>./wandb/run-20250330_221025-t50obw7f/logs</code>"
      ],
      "text/plain": [
       "<IPython.core.display.HTML object>"
      ]
     },
     "metadata": {},
     "output_type": "display_data"
    },
    {
     "name": "stdout",
     "output_type": "stream",
     "text": [
      "Training completed.\n"
     ]
    }
   ],
   "source": [
    "trainer.train()"
   ]
  },
  {
   "cell_type": "code",
   "execution_count": 15,
   "metadata": {
    "execution": {
     "iopub.execute_input": "2025-03-31T00:43:13.733625Z",
     "iopub.status.busy": "2025-03-31T00:43:13.733374Z",
     "iopub.status.idle": "2025-03-31T00:43:13.737818Z",
     "shell.execute_reply": "2025-03-31T00:43:13.736992Z",
     "shell.execute_reply.started": "2025-03-31T00:43:13.733599Z"
    },
    "trusted": true
   },
   "outputs": [],
   "source": [
    "config = {\n",
    "    \"learning_rate\": 1e-4,  # Learning rate for the AdamW optimizer\n",
    "    \"batch_size\": 64,  # Batch size for training and validation\n",
    "    \"epochs\": 50,  # Number of training epochs\n",
    "    \"depth\": 20,   # Depth of the DnCNN model\n",
    "    \"channels\": 128 ,\n",
    "    \"patch_size\": 50,  # Size of the patches extracted from images\n",
    "    \"stride\": 25,  # Stride for the sliding window patch extraction\n",
    "    \"val_size\": 0.2,  # Fraction of data used for validation\n",
    "    \"checkpoint_dir\": \"./checkpoints\",  # Directory to save model checkpoints\n",
    "    \"log_interval\": 1,  # Log results every 1 epochs\n",
    "    \"wandb_enabled\": True,  # Enable Weights & Biases logging\n",
    "    \"wandb_mode\": \"online\",  # \"online\", \"offline\", or \"disabled\"\n",
    "    \"project_name\": \"ImageDenoising_1\",  # Project name for Weights & Biases\n",
    "    \"noisy_dir\": \"/kaggle/input/cbsd68/noisy35\",  # Directory containing noisy images\n",
    "    \"original_dir\": \"/kaggle/input/cbsd68/original_png\",  # Directory containing original images\n",
    "}"
   ]
  },
  {
   "cell_type": "code",
   "execution_count": 16,
   "metadata": {
    "execution": {
     "iopub.execute_input": "2025-03-31T00:43:13.739781Z",
     "iopub.status.busy": "2025-03-31T00:43:13.739508Z",
     "iopub.status.idle": "2025-03-31T00:43:21.012009Z",
     "shell.execute_reply": "2025-03-31T00:43:21.011283Z",
     "shell.execute_reply.started": "2025-03-31T00:43:13.739761Z"
    },
    "trusted": true
   },
   "outputs": [
    {
     "name": "stdout",
     "output_type": "stream",
     "text": [
      "Preparing Data...\n",
      "Dataloaders prepared !!\n",
      "Model Initialized !!\n"
     ]
    },
    {
     "data": {
      "text/html": [
       "Tracking run with wandb version 0.19.1"
      ],
      "text/plain": [
       "<IPython.core.display.HTML object>"
      ]
     },
     "metadata": {},
     "output_type": "display_data"
    },
    {
     "data": {
      "text/html": [
       "Run data is saved locally in <code>/kaggle/working/wandb/run-20250331_004314-dcae2vd8</code>"
      ],
      "text/plain": [
       "<IPython.core.display.HTML object>"
      ]
     },
     "metadata": {},
     "output_type": "display_data"
    },
    {
     "data": {
      "text/html": [
       "Syncing run <strong><a href='https://wandb.ai/shobhitshukla6535-iit-kharagpur/ImageDenoising_1/runs/dcae2vd8' target=\"_blank\">twilight-cloud-19</a></strong> to <a href='https://wandb.ai/shobhitshukla6535-iit-kharagpur/ImageDenoising_1' target=\"_blank\">Weights & Biases</a> (<a href='https://wandb.me/developer-guide' target=\"_blank\">docs</a>)<br>"
      ],
      "text/plain": [
       "<IPython.core.display.HTML object>"
      ]
     },
     "metadata": {},
     "output_type": "display_data"
    },
    {
     "data": {
      "text/html": [
       " View project at <a href='https://wandb.ai/shobhitshukla6535-iit-kharagpur/ImageDenoising_1' target=\"_blank\">https://wandb.ai/shobhitshukla6535-iit-kharagpur/ImageDenoising_1</a>"
      ],
      "text/plain": [
       "<IPython.core.display.HTML object>"
      ]
     },
     "metadata": {},
     "output_type": "display_data"
    },
    {
     "data": {
      "text/html": [
       " View run at <a href='https://wandb.ai/shobhitshukla6535-iit-kharagpur/ImageDenoising_1/runs/dcae2vd8' target=\"_blank\">https://wandb.ai/shobhitshukla6535-iit-kharagpur/ImageDenoising_1/runs/dcae2vd8</a>"
      ],
      "text/plain": [
       "<IPython.core.display.HTML object>"
      ]
     },
     "metadata": {},
     "output_type": "display_data"
    }
   ],
   "source": [
    "trainer = Trainer(config=config)"
   ]
  },
  {
   "cell_type": "code",
   "execution_count": 17,
   "metadata": {
    "execution": {
     "iopub.execute_input": "2025-03-31T00:43:21.013048Z",
     "iopub.status.busy": "2025-03-31T00:43:21.012854Z",
     "iopub.status.idle": "2025-03-31T00:43:21.018477Z",
     "shell.execute_reply": "2025-03-31T00:43:21.017874Z",
     "shell.execute_reply.started": "2025-03-31T00:43:21.013030Z"
    },
    "trusted": true
   },
   "outputs": [
    {
     "data": {
      "text/plain": [
       "(169, 43)"
      ]
     },
     "execution_count": 17,
     "metadata": {},
     "output_type": "execute_result"
    }
   ],
   "source": [
    "len(trainer.train_loader), len(trainer.val_loader)"
   ]
  },
  {
   "cell_type": "code",
   "execution_count": 18,
   "metadata": {
    "execution": {
     "iopub.execute_input": "2025-03-31T00:43:21.019366Z",
     "iopub.status.busy": "2025-03-31T00:43:21.019135Z",
     "iopub.status.idle": "2025-03-31T03:18:47.683318Z",
     "shell.execute_reply": "2025-03-31T03:18:47.682668Z",
     "shell.execute_reply.started": "2025-03-31T00:43:21.019336Z"
    },
    "scrolled": true,
    "trusted": true
   },
   "outputs": [
    {
     "name": "stderr",
     "output_type": "stream",
     "text": [
      "Epoch 1: 100%|██████████| 169/169 [02:31<00:00,  1.12it/s, Avg Loss=0.0185]\n"
     ]
    },
    {
     "name": "stdout",
     "output_type": "stream",
     "text": [
      "Latest Learning rate: [9.900000000000001e-05]\n",
      "Epoch 1/50, Step: 169, Train Loss: 0.018602, Val Loss: 0.012042, Train PSNR: 17.298246, Train SSIM: 0.465859, Val PSNR: 19.190409, Val SSIM: 0.466052\n",
      "New best model found at epoch 1 with val PSNR: 19.190409\n"
     ]
    },
    {
     "name": "stderr",
     "output_type": "stream",
     "text": [
      "Epoch 2: 100%|██████████| 169/169 [02:31<00:00,  1.12it/s, Avg Loss=0.0132]\n"
     ]
    },
    {
     "name": "stdout",
     "output_type": "stream",
     "text": [
      "Latest Learning rate: [9.801e-05]\n",
      "Epoch 2/50, Step: 338, Train Loss: 0.007961, Val Loss: 0.005318, Train PSNR: 20.984205, Train SSIM: 0.539370, Val PSNR: 22.736805, Val SSIM: 0.603852\n",
      "New best model found at epoch 2 with val PSNR: 22.736805\n"
     ]
    },
    {
     "name": "stderr",
     "output_type": "stream",
     "text": [
      "Epoch 3: 100%|██████████| 169/169 [02:33<00:00,  1.10it/s, Avg Loss=0.0103]\n"
     ]
    },
    {
     "name": "stdout",
     "output_type": "stream",
     "text": [
      "Latest Learning rate: [9.70299e-05]\n",
      "Epoch 3/50, Step: 507, Train Loss: 0.004296, Val Loss: 0.003720, Train PSNR: 23.666409, Train SSIM: 0.648011, Val PSNR: 24.284498, Val SSIM: 0.684893\n",
      "New best model found at epoch 3 with val PSNR: 24.284498\n"
     ]
    },
    {
     "name": "stderr",
     "output_type": "stream",
     "text": [
      "Epoch 4: 100%|██████████| 169/169 [02:31<00:00,  1.11it/s, Avg Loss=0.00853]\n"
     ]
    },
    {
     "name": "stdout",
     "output_type": "stream",
     "text": [
      "Latest Learning rate: [9.605960100000001e-05]\n",
      "Epoch 4/50, Step: 676, Train Loss: 0.003310, Val Loss: 0.003073, Train PSNR: 24.799446, Train SSIM: 0.704027, Val PSNR: 25.110550, Val SSIM: 0.726419\n",
      "New best model found at epoch 4 with val PSNR: 25.110550\n"
     ]
    },
    {
     "name": "stderr",
     "output_type": "stream",
     "text": [
      "Epoch 5: 100%|██████████| 169/169 [02:32<00:00,  1.11it/s, Avg Loss=0.0074] \n"
     ]
    },
    {
     "name": "stdout",
     "output_type": "stream",
     "text": [
      "Latest Learning rate: [9.509900499000001e-05]\n",
      "Epoch 5/50, Step: 845, Train Loss: 0.002870, Val Loss: 0.002748, Train PSNR: 25.418932, Train SSIM: 0.735965, Val PSNR: 25.594645, Val SSIM: 0.747585\n",
      "New best model found at epoch 5 with val PSNR: 25.594645\n"
     ]
    },
    {
     "name": "stderr",
     "output_type": "stream",
     "text": [
      "Epoch 6: 100%|██████████| 169/169 [02:32<00:00,  1.11it/s, Avg Loss=0.0066] \n"
     ]
    },
    {
     "name": "stdout",
     "output_type": "stream",
     "text": [
      "Latest Learning rate: [9.414801494010001e-05]\n",
      "Epoch 6/50, Step: 1014, Train Loss: 0.002625, Val Loss: 0.002516, Train PSNR: 25.806732, Train SSIM: 0.754049, Val PSNR: 25.974697, Val SSIM: 0.768398\n",
      "New best model found at epoch 6 with val PSNR: 25.974697\n"
     ]
    },
    {
     "name": "stderr",
     "output_type": "stream",
     "text": [
      "Epoch 7: 100%|██████████| 169/169 [02:32<00:00,  1.11it/s, Avg Loss=0.00601]\n"
     ]
    },
    {
     "name": "stdout",
     "output_type": "stream",
     "text": [
      "Latest Learning rate: [9.320653479069902e-05]\n",
      "Epoch 7/50, Step: 1183, Train Loss: 0.002451, Val Loss: 0.002355, Train PSNR: 26.105669, Train SSIM: 0.766611, Val PSNR: 26.260353, Val SSIM: 0.779923\n",
      "New best model found at epoch 7 with val PSNR: 26.260353\n"
     ]
    },
    {
     "name": "stderr",
     "output_type": "stream",
     "text": [
      "Epoch 8: 100%|██████████| 169/169 [02:33<00:00,  1.10it/s, Avg Loss=0.00555]\n"
     ]
    },
    {
     "name": "stdout",
     "output_type": "stream",
     "text": [
      "Latest Learning rate: [9.227446944279203e-05]\n",
      "Epoch 8/50, Step: 1352, Train Loss: 0.002314, Val Loss: 0.002235, Train PSNR: 26.355736, Train SSIM: 0.776054, Val PSNR: 26.487413, Val SSIM: 0.788128\n",
      "New best model found at epoch 8 with val PSNR: 26.487413\n"
     ]
    },
    {
     "name": "stderr",
     "output_type": "stream",
     "text": [
      "Epoch 9: 100%|██████████| 169/169 [02:34<00:00,  1.10it/s, Avg Loss=0.00518]\n"
     ]
    },
    {
     "name": "stdout",
     "output_type": "stream",
     "text": [
      "Latest Learning rate: [9.13517247483641e-05]\n",
      "Epoch 9/50, Step: 1521, Train Loss: 0.002199, Val Loss: 0.002153, Train PSNR: 26.576382, Train SSIM: 0.784236, Val PSNR: 26.647493, Val SSIM: 0.794803\n",
      "New best model found at epoch 9 with val PSNR: 26.647493\n"
     ]
    },
    {
     "name": "stderr",
     "output_type": "stream",
     "text": [
      "Epoch 10: 100%|██████████| 169/169 [02:35<00:00,  1.09it/s, Avg Loss=0.00487]\n"
     ]
    },
    {
     "name": "stdout",
     "output_type": "stream",
     "text": [
      "Latest Learning rate: [9.043820750088047e-05]\n",
      "Epoch 10/50, Step: 1690, Train Loss: 0.002105, Val Loss: 0.002075, Train PSNR: 26.766548, Train SSIM: 0.791415, Val PSNR: 26.807451, Val SSIM: 0.800680\n",
      "New best model found at epoch 10 with val PSNR: 26.807451\n"
     ]
    },
    {
     "name": "stderr",
     "output_type": "stream",
     "text": [
      "Epoch 11: 100%|██████████| 169/169 [02:34<00:00,  1.09it/s, Avg Loss=0.00461]\n"
     ]
    },
    {
     "name": "stdout",
     "output_type": "stream",
     "text": [
      "Latest Learning rate: [8.953382542587167e-05]\n",
      "Epoch 11/50, Step: 1859, Train Loss: 0.002033, Val Loss: 0.002013, Train PSNR: 26.917725, Train SSIM: 0.797185, Val PSNR: 26.938274, Val SSIM: 0.807679\n",
      "New best model found at epoch 11 with val PSNR: 26.938274\n"
     ]
    },
    {
     "name": "stderr",
     "output_type": "stream",
     "text": [
      "Epoch 12: 100%|██████████| 169/169 [02:35<00:00,  1.09it/s, Avg Loss=0.00439]\n"
     ]
    },
    {
     "name": "stdout",
     "output_type": "stream",
     "text": [
      "Latest Learning rate: [8.863848717161295e-05]\n",
      "Epoch 12/50, Step: 2028, Train Loss: 0.001979, Val Loss: 0.001945, Train PSNR: 27.034204, Train SSIM: 0.801605, Val PSNR: 27.086609, Val SSIM: 0.813178\n",
      "New best model found at epoch 12 with val PSNR: 27.086609\n"
     ]
    },
    {
     "name": "stderr",
     "output_type": "stream",
     "text": [
      "Epoch 13: 100%|██████████| 169/169 [02:34<00:00,  1.09it/s, Avg Loss=0.0042] \n"
     ]
    },
    {
     "name": "stdout",
     "output_type": "stream",
     "text": [
      "Latest Learning rate: [8.775210229989682e-05]\n",
      "Epoch 13/50, Step: 2197, Train Loss: 0.001934, Val Loss: 0.001914, Train PSNR: 27.133001, Train SSIM: 0.805261, Val PSNR: 27.155552, Val SSIM: 0.815957\n",
      "New best model found at epoch 13 with val PSNR: 27.155552\n"
     ]
    },
    {
     "name": "stderr",
     "output_type": "stream",
     "text": [
      "Epoch 14: 100%|██████████| 169/169 [02:34<00:00,  1.10it/s, Avg Loss=0.00404]\n"
     ]
    },
    {
     "name": "stdout",
     "output_type": "stream",
     "text": [
      "Latest Learning rate: [8.687458127689785e-05]\n",
      "Epoch 14/50, Step: 2366, Train Loss: 0.001895, Val Loss: 0.001870, Train PSNR: 27.222040, Train SSIM: 0.808962, Val PSNR: 27.256098, Val SSIM: 0.819846\n",
      "New best model found at epoch 14 with val PSNR: 27.256098\n"
     ]
    },
    {
     "name": "stderr",
     "output_type": "stream",
     "text": [
      "Epoch 15: 100%|██████████| 169/169 [02:34<00:00,  1.10it/s, Avg Loss=0.00389]\n"
     ]
    },
    {
     "name": "stdout",
     "output_type": "stream",
     "text": [
      "Latest Learning rate: [8.600583546412887e-05]\n",
      "Epoch 15/50, Step: 2535, Train Loss: 0.001861, Val Loss: 0.001828, Train PSNR: 27.301725, Train SSIM: 0.812167, Val PSNR: 27.353548, Val SSIM: 0.823086\n",
      "New best model found at epoch 15 with val PSNR: 27.353548\n"
     ]
    },
    {
     "name": "stderr",
     "output_type": "stream",
     "text": [
      "Epoch 16: 100%|██████████| 169/169 [02:34<00:00,  1.09it/s, Avg Loss=0.00377]\n"
     ]
    },
    {
     "name": "stdout",
     "output_type": "stream",
     "text": [
      "Latest Learning rate: [8.514577710948758e-05]\n",
      "Epoch 16/50, Step: 2704, Train Loss: 0.001833, Val Loss: 0.001798, Train PSNR: 27.368082, Train SSIM: 0.814970, Val PSNR: 27.424099, Val SSIM: 0.826270\n",
      "New best model found at epoch 16 with val PSNR: 27.424099\n"
     ]
    },
    {
     "name": "stderr",
     "output_type": "stream",
     "text": [
      "Epoch 17: 100%|██████████| 169/169 [02:39<00:00,  1.06it/s, Avg Loss=0.00365]\n"
     ]
    },
    {
     "name": "stdout",
     "output_type": "stream",
     "text": [
      "Latest Learning rate: [8.429431933839271e-05]\n",
      "Epoch 17/50, Step: 2873, Train Loss: 0.001809, Val Loss: 0.001774, Train PSNR: 27.424294, Train SSIM: 0.817461, Val PSNR: 27.481497, Val SSIM: 0.829054\n",
      "New best model found at epoch 17 with val PSNR: 27.481497\n"
     ]
    },
    {
     "name": "stderr",
     "output_type": "stream",
     "text": [
      "Epoch 18: 100%|██████████| 169/169 [02:34<00:00,  1.10it/s, Avg Loss=0.00355]\n"
     ]
    },
    {
     "name": "stdout",
     "output_type": "stream",
     "text": [
      "Latest Learning rate: [8.345137614500879e-05]\n",
      "Epoch 18/50, Step: 3042, Train Loss: 0.001788, Val Loss: 0.001753, Train PSNR: 27.473854, Train SSIM: 0.819553, Val PSNR: 27.532373, Val SSIM: 0.830176\n",
      "New best model found at epoch 18 with val PSNR: 27.532373\n"
     ]
    },
    {
     "name": "stderr",
     "output_type": "stream",
     "text": [
      "Epoch 19: 100%|██████████| 169/169 [02:34<00:00,  1.10it/s, Avg Loss=0.00345]\n"
     ]
    },
    {
     "name": "stdout",
     "output_type": "stream",
     "text": [
      "Latest Learning rate: [8.26168623835587e-05]\n",
      "Epoch 19/50, Step: 3211, Train Loss: 0.001770, Val Loss: 0.001739, Train PSNR: 27.517790, Train SSIM: 0.821372, Val PSNR: 27.568054, Val SSIM: 0.831543\n",
      "New best model found at epoch 19 with val PSNR: 27.568054\n"
     ]
    },
    {
     "name": "stderr",
     "output_type": "stream",
     "text": [
      "Epoch 20: 100%|██████████| 169/169 [02:34<00:00,  1.09it/s, Avg Loss=0.00337]\n"
     ]
    },
    {
     "name": "stdout",
     "output_type": "stream",
     "text": [
      "Latest Learning rate: [8.17906937597231e-05]\n",
      "Epoch 20/50, Step: 3380, Train Loss: 0.001755, Val Loss: 0.001729, Train PSNR: 27.556252, Train SSIM: 0.822958, Val PSNR: 27.593441, Val SSIM: 0.833063\n",
      "New best model found at epoch 20 with val PSNR: 27.593441\n"
     ]
    },
    {
     "name": "stderr",
     "output_type": "stream",
     "text": [
      "Epoch 21: 100%|██████████| 169/169 [02:35<00:00,  1.08it/s, Avg Loss=0.00329]\n"
     ]
    },
    {
     "name": "stdout",
     "output_type": "stream",
     "text": [
      "Latest Learning rate: [8.097278682212587e-05]\n",
      "Epoch 21/50, Step: 3549, Train Loss: 0.001741, Val Loss: 0.001716, Train PSNR: 27.591627, Train SSIM: 0.824441, Val PSNR: 27.626060, Val SSIM: 0.834429\n",
      "New best model found at epoch 21 with val PSNR: 27.626060\n"
     ]
    },
    {
     "name": "stderr",
     "output_type": "stream",
     "text": [
      "Epoch 22: 100%|██████████| 169/169 [02:34<00:00,  1.09it/s, Avg Loss=0.00322]\n"
     ]
    },
    {
     "name": "stdout",
     "output_type": "stream",
     "text": [
      "Latest Learning rate: [8.016305895390461e-05]\n",
      "Epoch 22/50, Step: 3718, Train Loss: 0.001727, Val Loss: 0.001701, Train PSNR: 27.626528, Train SSIM: 0.825987, Val PSNR: 27.663488, Val SSIM: 0.835947\n",
      "New best model found at epoch 22 with val PSNR: 27.663488\n"
     ]
    },
    {
     "name": "stderr",
     "output_type": "stream",
     "text": [
      "Epoch 23: 100%|██████████| 169/169 [02:35<00:00,  1.09it/s, Avg Loss=0.00315]\n"
     ]
    },
    {
     "name": "stdout",
     "output_type": "stream",
     "text": [
      "Latest Learning rate: [7.936142836436556e-05]\n",
      "Epoch 23/50, Step: 3887, Train Loss: 0.001714, Val Loss: 0.001688, Train PSNR: 27.658838, Train SSIM: 0.827308, Val PSNR: 27.695704, Val SSIM: 0.837273\n",
      "New best model found at epoch 23 with val PSNR: 27.695704\n"
     ]
    },
    {
     "name": "stderr",
     "output_type": "stream",
     "text": [
      "Epoch 24: 100%|██████████| 169/169 [02:35<00:00,  1.09it/s, Avg Loss=0.00309]\n"
     ]
    },
    {
     "name": "stdout",
     "output_type": "stream",
     "text": [
      "Latest Learning rate: [7.856781408072191e-05]\n",
      "Epoch 24/50, Step: 4056, Train Loss: 0.001702, Val Loss: 0.001676, Train PSNR: 27.688437, Train SSIM: 0.828563, Val PSNR: 27.726971, Val SSIM: 0.838653\n",
      "New best model found at epoch 24 with val PSNR: 27.726971\n"
     ]
    },
    {
     "name": "stderr",
     "output_type": "stream",
     "text": [
      "Epoch 25: 100%|██████████| 169/169 [02:33<00:00,  1.10it/s, Avg Loss=0.00304]\n"
     ]
    },
    {
     "name": "stdout",
     "output_type": "stream",
     "text": [
      "Latest Learning rate: [7.778213593991469e-05]\n",
      "Epoch 25/50, Step: 4225, Train Loss: 0.001692, Val Loss: 0.001671, Train PSNR: 27.715538, Train SSIM: 0.829705, Val PSNR: 27.740721, Val SSIM: 0.839702\n",
      "New best model found at epoch 25 with val PSNR: 27.740721\n"
     ]
    },
    {
     "name": "stderr",
     "output_type": "stream",
     "text": [
      "Epoch 26: 100%|██████████| 169/169 [02:34<00:00,  1.09it/s, Avg Loss=0.00299]\n"
     ]
    },
    {
     "name": "stdout",
     "output_type": "stream",
     "text": [
      "Latest Learning rate: [7.700431458051554e-05]\n",
      "Epoch 26/50, Step: 4394, Train Loss: 0.001682, Val Loss: 0.001667, Train PSNR: 27.740471, Train SSIM: 0.830745, Val PSNR: 27.749378, Val SSIM: 0.839599\n",
      "New best model found at epoch 26 with val PSNR: 27.749378\n"
     ]
    },
    {
     "name": "stderr",
     "output_type": "stream",
     "text": [
      "Epoch 27: 100%|██████████| 169/169 [02:34<00:00,  1.09it/s, Avg Loss=0.00294]\n"
     ]
    },
    {
     "name": "stdout",
     "output_type": "stream",
     "text": [
      "Latest Learning rate: [7.623427143471038e-05]\n",
      "Epoch 27/50, Step: 4563, Train Loss: 0.001672, Val Loss: 0.001663, Train PSNR: 27.765696, Train SSIM: 0.831774, Val PSNR: 27.759573, Val SSIM: 0.839957\n",
      "New best model found at epoch 27 with val PSNR: 27.759573\n"
     ]
    },
    {
     "name": "stderr",
     "output_type": "stream",
     "text": [
      "Epoch 28: 100%|██████████| 169/169 [02:34<00:00,  1.10it/s, Avg Loss=0.00289]\n"
     ]
    },
    {
     "name": "stdout",
     "output_type": "stream",
     "text": [
      "Latest Learning rate: [7.547192872036328e-05]\n",
      "Epoch 28/50, Step: 4732, Train Loss: 0.001662, Val Loss: 0.001658, Train PSNR: 27.791742, Train SSIM: 0.832887, Val PSNR: 27.773209, Val SSIM: 0.840423\n",
      "New best model found at epoch 28 with val PSNR: 27.773209\n"
     ]
    },
    {
     "name": "stderr",
     "output_type": "stream",
     "text": [
      "Epoch 29: 100%|██████████| 169/169 [02:33<00:00,  1.10it/s, Avg Loss=0.00285]\n"
     ]
    },
    {
     "name": "stdout",
     "output_type": "stream",
     "text": [
      "Latest Learning rate: [7.471720943315964e-05]\n",
      "Epoch 29/50, Step: 4901, Train Loss: 0.001653, Val Loss: 0.001655, Train PSNR: 27.816164, Train SSIM: 0.833882, Val PSNR: 27.780825, Val SSIM: 0.840513\n",
      "New best model found at epoch 29 with val PSNR: 27.780825\n"
     ]
    },
    {
     "name": "stderr",
     "output_type": "stream",
     "text": [
      "Epoch 30: 100%|██████████| 169/169 [02:34<00:00,  1.10it/s, Avg Loss=0.00281]\n"
     ]
    },
    {
     "name": "stdout",
     "output_type": "stream",
     "text": [
      "Latest Learning rate: [7.397003733882805e-05]\n",
      "Epoch 30/50, Step: 5070, Train Loss: 0.001644, Val Loss: 0.001648, Train PSNR: 27.839207, Train SSIM: 0.834824, Val PSNR: 27.800056, Val SSIM: 0.841418\n",
      "New best model found at epoch 30 with val PSNR: 27.800056\n"
     ]
    },
    {
     "name": "stderr",
     "output_type": "stream",
     "text": [
      "Epoch 31: 100%|██████████| 169/169 [02:34<00:00,  1.09it/s, Avg Loss=0.00277]\n"
     ]
    },
    {
     "name": "stdout",
     "output_type": "stream",
     "text": [
      "Latest Learning rate: [7.323033696543977e-05]\n",
      "Epoch 31/50, Step: 5239, Train Loss: 0.001636, Val Loss: 0.001642, Train PSNR: 27.861477, Train SSIM: 0.835717, Val PSNR: 27.813709, Val SSIM: 0.841669\n",
      "New best model found at epoch 31 with val PSNR: 27.813709\n"
     ]
    },
    {
     "name": "stderr",
     "output_type": "stream",
     "text": [
      "Epoch 32: 100%|██████████| 169/169 [02:34<00:00,  1.10it/s, Avg Loss=0.00274]\n"
     ]
    },
    {
     "name": "stdout",
     "output_type": "stream",
     "text": [
      "Latest Learning rate: [7.249803359578537e-05]\n",
      "Epoch 32/50, Step: 5408, Train Loss: 0.001628, Val Loss: 0.001635, Train PSNR: 27.883350, Train SSIM: 0.836546, Val PSNR: 27.834202, Val SSIM: 0.842418\n",
      "New best model found at epoch 32 with val PSNR: 27.834202\n"
     ]
    },
    {
     "name": "stderr",
     "output_type": "stream",
     "text": [
      "Epoch 33: 100%|██████████| 169/169 [02:34<00:00,  1.09it/s, Avg Loss=0.0027] \n"
     ]
    },
    {
     "name": "stdout",
     "output_type": "stream",
     "text": [
      "Latest Learning rate: [7.177305325982752e-05]\n",
      "Epoch 33/50, Step: 5577, Train Loss: 0.001620, Val Loss: 0.001627, Train PSNR: 27.904787, Train SSIM: 0.837385, Val PSNR: 27.853022, Val SSIM: 0.842631\n",
      "New best model found at epoch 33 with val PSNR: 27.853022\n"
     ]
    },
    {
     "name": "stderr",
     "output_type": "stream",
     "text": [
      "Epoch 34: 100%|██████████| 169/169 [02:35<00:00,  1.09it/s, Avg Loss=0.00267]\n"
     ]
    },
    {
     "name": "stdout",
     "output_type": "stream",
     "text": [
      "Latest Learning rate: [7.105532272722923e-05]\n",
      "Epoch 34/50, Step: 5746, Train Loss: 0.001612, Val Loss: 0.001620, Train PSNR: 27.925537, Train SSIM: 0.838161, Val PSNR: 27.871571, Val SSIM: 0.843621\n",
      "New best model found at epoch 34 with val PSNR: 27.871571\n"
     ]
    },
    {
     "name": "stderr",
     "output_type": "stream",
     "text": [
      "Epoch 35: 100%|██████████| 169/169 [02:34<00:00,  1.09it/s, Avg Loss=0.00264]\n"
     ]
    },
    {
     "name": "stdout",
     "output_type": "stream",
     "text": [
      "Latest Learning rate: [7.034476949995695e-05]\n",
      "Epoch 35/50, Step: 5915, Train Loss: 0.001604, Val Loss: 0.001618, Train PSNR: 27.945890, Train SSIM: 0.838967, Val PSNR: 27.878620, Val SSIM: 0.843878\n",
      "New best model found at epoch 35 with val PSNR: 27.878620\n"
     ]
    },
    {
     "name": "stderr",
     "output_type": "stream",
     "text": [
      "Epoch 36: 100%|██████████| 169/169 [02:35<00:00,  1.09it/s, Avg Loss=0.00261]\n"
     ]
    },
    {
     "name": "stdout",
     "output_type": "stream",
     "text": [
      "Latest Learning rate: [6.964132180495738e-05]\n",
      "Epoch 36/50, Step: 6084, Train Loss: 0.001597, Val Loss: 0.001613, Train PSNR: 27.964624, Train SSIM: 0.839719, Val PSNR: 27.891487, Val SSIM: 0.844412\n",
      "New best model found at epoch 36 with val PSNR: 27.891487\n"
     ]
    },
    {
     "name": "stderr",
     "output_type": "stream",
     "text": [
      "Epoch 37: 100%|██████████| 169/169 [02:34<00:00,  1.09it/s, Avg Loss=0.00258]\n"
     ]
    },
    {
     "name": "stdout",
     "output_type": "stream",
     "text": [
      "Latest Learning rate: [6.89449085869078e-05]\n",
      "Epoch 37/50, Step: 6253, Train Loss: 0.001591, Val Loss: 0.001603, Train PSNR: 27.983030, Train SSIM: 0.840506, Val PSNR: 27.918756, Val SSIM: 0.845175\n",
      "New best model found at epoch 37 with val PSNR: 27.918756\n"
     ]
    },
    {
     "name": "stderr",
     "output_type": "stream",
     "text": [
      "Epoch 38: 100%|██████████| 169/169 [02:34<00:00,  1.09it/s, Avg Loss=0.00256]\n"
     ]
    },
    {
     "name": "stdout",
     "output_type": "stream",
     "text": [
      "Latest Learning rate: [6.825545950103872e-05]\n",
      "Epoch 38/50, Step: 6422, Train Loss: 0.001584, Val Loss: 0.001595, Train PSNR: 28.000710, Train SSIM: 0.841253, Val PSNR: 27.939959, Val SSIM: 0.845941\n",
      "New best model found at epoch 38 with val PSNR: 27.939959\n"
     ]
    },
    {
     "name": "stderr",
     "output_type": "stream",
     "text": [
      "Epoch 39: 100%|██████████| 169/169 [02:35<00:00,  1.09it/s, Avg Loss=0.00253]\n"
     ]
    },
    {
     "name": "stdout",
     "output_type": "stream",
     "text": [
      "Latest Learning rate: [6.757290490602833e-05]\n",
      "Epoch 39/50, Step: 6591, Train Loss: 0.001578, Val Loss: 0.001585, Train PSNR: 28.018456, Train SSIM: 0.841932, Val PSNR: 27.968140, Val SSIM: 0.846648\n",
      "New best model found at epoch 39 with val PSNR: 27.968140\n"
     ]
    },
    {
     "name": "stderr",
     "output_type": "stream",
     "text": [
      "Epoch 40: 100%|██████████| 169/169 [02:34<00:00,  1.09it/s, Avg Loss=0.00251]\n"
     ]
    },
    {
     "name": "stdout",
     "output_type": "stream",
     "text": [
      "Latest Learning rate: [6.689717585696805e-05]\n",
      "Epoch 40/50, Step: 6760, Train Loss: 0.001572, Val Loss: 0.001576, Train PSNR: 28.034754, Train SSIM: 0.842557, Val PSNR: 27.991375, Val SSIM: 0.847742\n",
      "New best model found at epoch 40 with val PSNR: 27.991375\n"
     ]
    },
    {
     "name": "stderr",
     "output_type": "stream",
     "text": [
      "Epoch 41: 100%|██████████| 169/169 [02:35<00:00,  1.09it/s, Avg Loss=0.00248]\n"
     ]
    },
    {
     "name": "stdout",
     "output_type": "stream",
     "text": [
      "Latest Learning rate: [6.622820409839837e-05]\n",
      "Epoch 41/50, Step: 6929, Train Loss: 0.001566, Val Loss: 0.001572, Train PSNR: 28.051739, Train SSIM: 0.843275, Val PSNR: 28.004103, Val SSIM: 0.848484\n",
      "New best model found at epoch 41 with val PSNR: 28.004103\n"
     ]
    },
    {
     "name": "stderr",
     "output_type": "stream",
     "text": [
      "Epoch 42: 100%|██████████| 169/169 [02:36<00:00,  1.08it/s, Avg Loss=0.00246]\n"
     ]
    },
    {
     "name": "stdout",
     "output_type": "stream",
     "text": [
      "Latest Learning rate: [6.556592205741439e-05]\n",
      "Epoch 42/50, Step: 7098, Train Loss: 0.001560, Val Loss: 0.001569, Train PSNR: 28.067221, Train SSIM: 0.843853, Val PSNR: 28.010302, Val SSIM: 0.848984\n",
      "New best model found at epoch 42 with val PSNR: 28.010302\n"
     ]
    },
    {
     "name": "stderr",
     "output_type": "stream",
     "text": [
      "Epoch 43: 100%|██████████| 169/169 [02:35<00:00,  1.08it/s, Avg Loss=0.00244]\n"
     ]
    },
    {
     "name": "stdout",
     "output_type": "stream",
     "text": [
      "Latest Learning rate: [6.491026283684025e-05]\n",
      "Epoch 43/50, Step: 7267, Train Loss: 0.001555, Val Loss: 0.001568, Train PSNR: 28.082016, Train SSIM: 0.844395, Val PSNR: 28.014715, Val SSIM: 0.849633\n",
      "New best model found at epoch 43 with val PSNR: 28.014715\n"
     ]
    },
    {
     "name": "stderr",
     "output_type": "stream",
     "text": [
      "Epoch 44: 100%|██████████| 169/169 [02:35<00:00,  1.09it/s, Avg Loss=0.00242]\n"
     ]
    },
    {
     "name": "stdout",
     "output_type": "stream",
     "text": [
      "Latest Learning rate: [6.426116020847184e-05]\n",
      "Epoch 44/50, Step: 7436, Train Loss: 0.001549, Val Loss: 0.001566, Train PSNR: 28.096716, Train SSIM: 0.844957, Val PSNR: 28.018484, Val SSIM: 0.850099\n",
      "New best model found at epoch 44 with val PSNR: 28.018484\n"
     ]
    },
    {
     "name": "stderr",
     "output_type": "stream",
     "text": [
      "Epoch 45: 100%|██████████| 169/169 [02:34<00:00,  1.09it/s, Avg Loss=0.0024] \n"
     ]
    },
    {
     "name": "stdout",
     "output_type": "stream",
     "text": [
      "Latest Learning rate: [6.361854860638712e-05]\n",
      "Epoch 45/50, Step: 7605, Train Loss: 0.001544, Val Loss: 0.001564, Train PSNR: 28.111050, Train SSIM: 0.845507, Val PSNR: 28.026386, Val SSIM: 0.850664\n",
      "New best model found at epoch 45 with val PSNR: 28.026386\n"
     ]
    },
    {
     "name": "stderr",
     "output_type": "stream",
     "text": [
      "Epoch 46: 100%|██████████| 169/169 [02:34<00:00,  1.09it/s, Avg Loss=0.00238]\n"
     ]
    },
    {
     "name": "stdout",
     "output_type": "stream",
     "text": [
      "Latest Learning rate: [6.298236312032325e-05]\n",
      "Epoch 46/50, Step: 7774, Train Loss: 0.001539, Val Loss: 0.001561, Train PSNR: 28.125292, Train SSIM: 0.846049, Val PSNR: 28.034788, Val SSIM: 0.851258\n",
      "New best model found at epoch 46 with val PSNR: 28.034788\n"
     ]
    },
    {
     "name": "stderr",
     "output_type": "stream",
     "text": [
      "Epoch 47: 100%|██████████| 169/169 [02:33<00:00,  1.10it/s, Avg Loss=0.00236]\n"
     ]
    },
    {
     "name": "stdout",
     "output_type": "stream",
     "text": [
      "Latest Learning rate: [6.235253948912002e-05]\n",
      "Epoch 47/50, Step: 7943, Train Loss: 0.001534, Val Loss: 0.001560, Train PSNR: 28.139015, Train SSIM: 0.846604, Val PSNR: 28.035995, Val SSIM: 0.851497\n",
      "New best model found at epoch 47 with val PSNR: 28.035995\n"
     ]
    },
    {
     "name": "stderr",
     "output_type": "stream",
     "text": [
      "Epoch 48: 100%|██████████| 169/169 [02:32<00:00,  1.11it/s, Avg Loss=0.00235]\n"
     ]
    },
    {
     "name": "stdout",
     "output_type": "stream",
     "text": [
      "Latest Learning rate: [6.172901409422881e-05]\n",
      "Epoch 48/50, Step: 8112, Train Loss: 0.001530, Val Loss: 0.001559, Train PSNR: 28.152349, Train SSIM: 0.847130, Val PSNR: 28.039310, Val SSIM: 0.851973\n",
      "New best model found at epoch 48 with val PSNR: 28.039310\n"
     ]
    },
    {
     "name": "stderr",
     "output_type": "stream",
     "text": [
      "Epoch 49: 100%|██████████| 169/169 [02:33<00:00,  1.10it/s, Avg Loss=0.00233]\n"
     ]
    },
    {
     "name": "stdout",
     "output_type": "stream",
     "text": [
      "Latest Learning rate: [6.111172395328652e-05]\n",
      "Epoch 49/50, Step: 8281, Train Loss: 0.001525, Val Loss: 0.001556, Train PSNR: 28.165258, Train SSIM: 0.847636, Val PSNR: 28.047297, Val SSIM: 0.852337\n",
      "New best model found at epoch 49 with val PSNR: 28.047297\n"
     ]
    },
    {
     "name": "stderr",
     "output_type": "stream",
     "text": [
      "Epoch 50: 100%|██████████| 169/169 [02:34<00:00,  1.09it/s, Avg Loss=0.00231]\n"
     ]
    },
    {
     "name": "stdout",
     "output_type": "stream",
     "text": [
      "Latest Learning rate: [6.050060671375366e-05]\n",
      "Epoch 50/50, Step: 8450, Train Loss: 0.001521, Val Loss: 0.001554, Train PSNR: 28.177935, Train SSIM: 0.848126, Val PSNR: 28.051971, Val SSIM: 0.852527\n",
      "New best model found at epoch 50 with val PSNR: 28.051971\n"
     ]
    },
    {
     "data": {
      "text/html": [],
      "text/plain": [
       "<IPython.core.display.HTML object>"
      ]
     },
     "metadata": {},
     "output_type": "display_data"
    },
    {
     "data": {
      "text/html": [
       "<br>    <style><br>        .wandb-row {<br>            display: flex;<br>            flex-direction: row;<br>            flex-wrap: wrap;<br>            justify-content: flex-start;<br>            width: 100%;<br>        }<br>        .wandb-col {<br>            display: flex;<br>            flex-direction: column;<br>            flex-basis: 100%;<br>            flex: 1;<br>            padding: 10px;<br>        }<br>    </style><br><div class=\"wandb-row\"><div class=\"wandb-col\"><h3>Run history:</h3><br/><table class=\"wandb\"><tr><td>avg loss</td><td>█▄▄▃▂▂▂▁▁▁▁▁▁▁▁▁▁▁▁▁▁▁▁▁▁▁▁▁▁▁▁▁▁▁▁▁▁▁▁▁</td></tr><tr><td>best_val_psnr</td><td>▁▅▆▆▆▇▇▇▇▇▇▇████████████████████████████</td></tr><tr><td>epoch</td><td>▁▁▁▁▂▂▂▂▂▂▃▃▃▃▃▄▄▄▄▄▄▅▅▅▅▅▅▆▆▆▆▆▇▇▇▇▇▇██</td></tr><tr><td>train_loss</td><td>█▄▂▂▂▁▁▁▁▁▁▁▁▁▁▁▁▁▁▁▁▁▁▁▁▁▁▁▁▁▁▁▁▁▁▁▁▁▁▁</td></tr><tr><td>train_psnr</td><td>▁▃▆▆▆▇▇▇▇▇▇▇████████████████████████████</td></tr><tr><td>train_ssim</td><td>▁▂▄▅▆▇▇▇▇▇▇▇▇▇▇█████████████████████████</td></tr><tr><td>training_step</td><td>▁▁▁▁▂▂▃▃▃▄▄▄▄▄▄▅▅▅▅▅▅▅▆▆▆▆▆▇▇▇▇▇▇▇▇▇████</td></tr><tr><td>val_loss</td><td>█▄▂▂▂▂▁▁▁▁▁▁▁▁▁▁▁▁▁▁▁▁▁▁▁▁▁▁▁▁▁▁▁▁▁▁▁▁▁▁</td></tr><tr><td>val_psnr</td><td>▁▄▅▆▆▇▇▇▇▇▇▇▇███████████████████████████</td></tr><tr><td>val_ssim</td><td>▁▅▆▆▆▇▇▇▇▇▇▇████████████████████████████</td></tr></table><br/></div><div class=\"wandb-col\"><h3>Run summary:</h3><br/><table class=\"wandb\"><tr><td>avg loss</td><td>0.00231</td></tr><tr><td>best_val_psnr</td><td>28.05197</td></tr><tr><td>epoch</td><td>50</td></tr><tr><td>train_loss</td><td>0.00152</td></tr><tr><td>train_psnr</td><td>28.17793</td></tr><tr><td>train_ssim</td><td>0.84813</td></tr><tr><td>training_step</td><td>8449</td></tr><tr><td>val_loss</td><td>0.00155</td></tr><tr><td>val_psnr</td><td>28.05197</td></tr><tr><td>val_ssim</td><td>0.85253</td></tr></table><br/></div></div>"
      ],
      "text/plain": [
       "<IPython.core.display.HTML object>"
      ]
     },
     "metadata": {},
     "output_type": "display_data"
    },
    {
     "data": {
      "text/html": [
       " View run <strong style=\"color:#cdcd00\">twilight-cloud-19</strong> at: <a href='https://wandb.ai/shobhitshukla6535-iit-kharagpur/ImageDenoising_1/runs/dcae2vd8' target=\"_blank\">https://wandb.ai/shobhitshukla6535-iit-kharagpur/ImageDenoising_1/runs/dcae2vd8</a><br> View project at: <a href='https://wandb.ai/shobhitshukla6535-iit-kharagpur/ImageDenoising_1' target=\"_blank\">https://wandb.ai/shobhitshukla6535-iit-kharagpur/ImageDenoising_1</a><br>Synced 5 W&B file(s), 0 media file(s), 100 artifact file(s) and 1 other file(s)"
      ],
      "text/plain": [
       "<IPython.core.display.HTML object>"
      ]
     },
     "metadata": {},
     "output_type": "display_data"
    },
    {
     "data": {
      "text/html": [
       "Find logs at: <code>./wandb/run-20250331_004314-dcae2vd8/logs</code>"
      ],
      "text/plain": [
       "<IPython.core.display.HTML object>"
      ]
     },
     "metadata": {},
     "output_type": "display_data"
    },
    {
     "name": "stdout",
     "output_type": "stream",
     "text": [
      "Training completed.\n"
     ]
    }
   ],
   "source": [
    "trainer.train()"
   ]
  },
  {
   "cell_type": "code",
   "execution_count": null,
   "metadata": {
    "trusted": true
   },
   "outputs": [],
   "source": []
  }
 ],
 "metadata": {
  "colab": {
   "provenance": []
  },
  "kaggle": {
   "accelerator": "gpu",
   "dataSources": [
    {
     "datasetId": 6990594,
     "sourceId": 11222352,
     "sourceType": "datasetVersion"
    }
   ],
   "isGpuEnabled": true,
   "isInternetEnabled": true,
   "language": "python",
   "sourceType": "notebook"
  },
  "kernelspec": {
   "display_name": "ML",
   "language": "python",
   "name": "python3"
  },
  "language_info": {
   "codemirror_mode": {
    "name": "ipython",
    "version": 3
   },
   "file_extension": ".py",
   "mimetype": "text/x-python",
   "name": "python",
   "nbconvert_exporter": "python",
   "pygments_lexer": "ipython3",
   "version": "3.11.9"
  }
 },
 "nbformat": 4,
 "nbformat_minor": 4
}
